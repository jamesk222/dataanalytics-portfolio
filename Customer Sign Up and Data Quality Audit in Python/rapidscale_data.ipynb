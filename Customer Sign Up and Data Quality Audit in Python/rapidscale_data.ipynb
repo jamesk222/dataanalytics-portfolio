{
 "cells": [
  {
   "cell_type": "code",
   "execution_count": 3,
   "id": "9425a64c-8f3a-4ef8-b3ab-6a435f51b676",
   "metadata": {},
   "outputs": [
    {
     "name": "stdout",
     "output_type": "stream",
     "text": [
      "<class 'pandas.core.frame.DataFrame'>\n",
      "RangeIndex: 300 entries, 0 to 299\n",
      "Data columns (total 10 columns):\n",
      " #   Column            Non-Null Count  Dtype \n",
      "---  ------            --------------  ----- \n",
      " 0   customer_id       298 non-null    object\n",
      " 1   name              291 non-null    object\n",
      " 2   email             266 non-null    object\n",
      " 3   signup_date       298 non-null    object\n",
      " 4   source            291 non-null    object\n",
      " 5   region            270 non-null    object\n",
      " 6   plan_selected     292 non-null    object\n",
      " 7   marketing_opt_in  290 non-null    object\n",
      " 8   age               288 non-null    object\n",
      " 9   gender            292 non-null    object\n",
      "dtypes: object(10)\n",
      "memory usage: 23.6+ KB\n"
     ]
    },
    {
     "data": {
      "text/html": [
       "<div>\n",
       "<style scoped>\n",
       "    .dataframe tbody tr th:only-of-type {\n",
       "        vertical-align: middle;\n",
       "    }\n",
       "\n",
       "    .dataframe tbody tr th {\n",
       "        vertical-align: top;\n",
       "    }\n",
       "\n",
       "    .dataframe thead th {\n",
       "        text-align: right;\n",
       "    }\n",
       "</style>\n",
       "<table border=\"1\" class=\"dataframe\">\n",
       "  <thead>\n",
       "    <tr style=\"text-align: right;\">\n",
       "      <th></th>\n",
       "      <th>customer_id</th>\n",
       "      <th>name</th>\n",
       "      <th>email</th>\n",
       "      <th>signup_date</th>\n",
       "      <th>source</th>\n",
       "      <th>region</th>\n",
       "      <th>plan_selected</th>\n",
       "      <th>marketing_opt_in</th>\n",
       "      <th>age</th>\n",
       "      <th>gender</th>\n",
       "    </tr>\n",
       "  </thead>\n",
       "  <tbody>\n",
       "    <tr>\n",
       "      <th>290</th>\n",
       "      <td>CUST00290</td>\n",
       "      <td>Michael Nichols</td>\n",
       "      <td>michael90@inboxmail.net</td>\n",
       "      <td>17-10-24</td>\n",
       "      <td>Facebook</td>\n",
       "      <td>North</td>\n",
       "      <td>Pro</td>\n",
       "      <td>No</td>\n",
       "      <td>40</td>\n",
       "      <td>male</td>\n",
       "    </tr>\n",
       "    <tr>\n",
       "      <th>291</th>\n",
       "      <td>CUST00291</td>\n",
       "      <td>Thomas Flores</td>\n",
       "      <td>thomas91@mailhub.org</td>\n",
       "      <td>18-10-24</td>\n",
       "      <td>YouTube</td>\n",
       "      <td>South</td>\n",
       "      <td>Basic</td>\n",
       "      <td>No</td>\n",
       "      <td>60</td>\n",
       "      <td>Female</td>\n",
       "    </tr>\n",
       "    <tr>\n",
       "      <th>292</th>\n",
       "      <td>CUST00292</td>\n",
       "      <td>Ellen Blair</td>\n",
       "      <td>ellen92@mailhub.org</td>\n",
       "      <td>19-10-24</td>\n",
       "      <td>Google</td>\n",
       "      <td>East</td>\n",
       "      <td>UnknownPlan</td>\n",
       "      <td>NaN</td>\n",
       "      <td>40</td>\n",
       "      <td>Male</td>\n",
       "    </tr>\n",
       "    <tr>\n",
       "      <th>293</th>\n",
       "      <td>CUST00293</td>\n",
       "      <td>Yvonne Harding</td>\n",
       "      <td>yvonne93@inboxmail.net</td>\n",
       "      <td>20-10-24</td>\n",
       "      <td>Google</td>\n",
       "      <td>Central</td>\n",
       "      <td>Pro</td>\n",
       "      <td>Yes</td>\n",
       "      <td>34</td>\n",
       "      <td>male</td>\n",
       "    </tr>\n",
       "    <tr>\n",
       "      <th>294</th>\n",
       "      <td>CUST00294</td>\n",
       "      <td>Mrs. Jessica Smith</td>\n",
       "      <td>mrs.94@example.com</td>\n",
       "      <td>21-10-24</td>\n",
       "      <td>Google</td>\n",
       "      <td>South</td>\n",
       "      <td>Pro</td>\n",
       "      <td>Yes</td>\n",
       "      <td>29</td>\n",
       "      <td>Other</td>\n",
       "    </tr>\n",
       "    <tr>\n",
       "      <th>295</th>\n",
       "      <td>CUST00295</td>\n",
       "      <td>Gary Smith</td>\n",
       "      <td>gary95@example.com</td>\n",
       "      <td>22-10-24</td>\n",
       "      <td>Google</td>\n",
       "      <td>West</td>\n",
       "      <td>Premium</td>\n",
       "      <td>Yes</td>\n",
       "      <td>40</td>\n",
       "      <td>NaN</td>\n",
       "    </tr>\n",
       "    <tr>\n",
       "      <th>296</th>\n",
       "      <td>CUST00296</td>\n",
       "      <td>Anthony Roberts</td>\n",
       "      <td>anthony96@mailhub.org</td>\n",
       "      <td>23-10-24</td>\n",
       "      <td>Google</td>\n",
       "      <td>Central</td>\n",
       "      <td>Basic</td>\n",
       "      <td>Yes</td>\n",
       "      <td>25</td>\n",
       "      <td>Female</td>\n",
       "    </tr>\n",
       "    <tr>\n",
       "      <th>297</th>\n",
       "      <td>CUST00297</td>\n",
       "      <td>Timothy Mclaughlin</td>\n",
       "      <td>NaN</td>\n",
       "      <td>24-10-24</td>\n",
       "      <td>Instagram</td>\n",
       "      <td>West</td>\n",
       "      <td>Basic</td>\n",
       "      <td>Yes</td>\n",
       "      <td>60</td>\n",
       "      <td>NaN</td>\n",
       "    </tr>\n",
       "    <tr>\n",
       "      <th>298</th>\n",
       "      <td>CUST00298</td>\n",
       "      <td>Justin Mcintyre</td>\n",
       "      <td>justin98@mailhub.org</td>\n",
       "      <td>25-10-24</td>\n",
       "      <td>YouTube</td>\n",
       "      <td>South</td>\n",
       "      <td>Premium</td>\n",
       "      <td>No</td>\n",
       "      <td>53</td>\n",
       "      <td>male</td>\n",
       "    </tr>\n",
       "    <tr>\n",
       "      <th>299</th>\n",
       "      <td>CUST00299</td>\n",
       "      <td>Mr. Bruce Bridges</td>\n",
       "      <td>mr.99@example.com</td>\n",
       "      <td>26-10-24</td>\n",
       "      <td>NaN</td>\n",
       "      <td>North</td>\n",
       "      <td>Premium</td>\n",
       "      <td>Yes</td>\n",
       "      <td>29</td>\n",
       "      <td>Male</td>\n",
       "    </tr>\n",
       "  </tbody>\n",
       "</table>\n",
       "</div>"
      ],
      "text/plain": [
       "    customer_id                name                    email signup_date  \\\n",
       "290   CUST00290     Michael Nichols  michael90@inboxmail.net    17-10-24   \n",
       "291   CUST00291       Thomas Flores     thomas91@mailhub.org    18-10-24   \n",
       "292   CUST00292         Ellen Blair      ellen92@mailhub.org    19-10-24   \n",
       "293   CUST00293      Yvonne Harding   yvonne93@inboxmail.net    20-10-24   \n",
       "294   CUST00294  Mrs. Jessica Smith       mrs.94@example.com    21-10-24   \n",
       "295   CUST00295          Gary Smith       gary95@example.com    22-10-24   \n",
       "296   CUST00296     Anthony Roberts    anthony96@mailhub.org    23-10-24   \n",
       "297   CUST00297  Timothy Mclaughlin                      NaN    24-10-24   \n",
       "298   CUST00298     Justin Mcintyre     justin98@mailhub.org    25-10-24   \n",
       "299   CUST00299   Mr. Bruce Bridges        mr.99@example.com    26-10-24   \n",
       "\n",
       "        source   region plan_selected marketing_opt_in age  gender  \n",
       "290   Facebook    North           Pro               No  40    male  \n",
       "291    YouTube    South         Basic               No  60  Female  \n",
       "292     Google     East   UnknownPlan              NaN  40    Male  \n",
       "293     Google  Central           Pro              Yes  34    male  \n",
       "294     Google    South           Pro              Yes  29   Other  \n",
       "295     Google     West       Premium              Yes  40     NaN  \n",
       "296     Google  Central         Basic              Yes  25  Female  \n",
       "297  Instagram     West         Basic              Yes  60     NaN  \n",
       "298    YouTube    South       Premium               No  53    male  \n",
       "299        NaN    North       Premium              Yes  29    Male  "
      ]
     },
     "execution_count": 3,
     "metadata": {},
     "output_type": "execute_result"
    }
   ],
   "source": [
    "import pandas as pd\n",
    "import uuid\n",
    "import re\n",
    "\n",
    "#load the data set\n",
    "df = pd.read_csv(\"D:/Uptrail Internship/customer_signups.csv\")\n",
    "#Analyze the structure of the dataset\n",
    "df.info()\n",
    "df.head(10)\n",
    "df.tail(10)\n",
    "\n",
    "df['plan_selected'] = df['plan_selected'].str.replace('PRO', 'Pro', case=False).str.replace('PREMIUM', 'Premium', case=False).str.replace('basic', 'Basic', case = False)\n",
    "df.tail(10)"
   ]
  },
  {
   "cell_type": "code",
   "execution_count": 2,
   "id": "9b5a97ad-f97e-4434-9554-27da6e1713d1",
   "metadata": {},
   "outputs": [
    {
     "name": "stdout",
     "output_type": "stream",
     "text": [
      "<class 'pandas.core.frame.DataFrame'>\n",
      "RangeIndex: 300 entries, 0 to 299\n",
      "Data columns (total 10 columns):\n",
      " #   Column            Non-Null Count  Dtype \n",
      "---  ------            --------------  ----- \n",
      " 0   customer_id       298 non-null    object\n",
      " 1   name              291 non-null    object\n",
      " 2   email             266 non-null    object\n",
      " 3   signup_date       298 non-null    object\n",
      " 4   source            291 non-null    object\n",
      " 5   region            270 non-null    object\n",
      " 6   plan_selected     292 non-null    object\n",
      " 7   marketing_opt_in  290 non-null    object\n",
      " 8   age               288 non-null    object\n",
      " 9   gender            292 non-null    object\n",
      "dtypes: object(10)\n",
      "memory usage: 23.6+ KB\n"
     ]
    }
   ],
   "source": [
    "#Part 1: Identifiy missing values , Identify missing values, data types, and column structure \n",
    "df.info()\n"
   ]
  },
  {
   "cell_type": "code",
   "execution_count": 4,
   "id": "36b18069-019e-4189-b0b2-de53e54b0ddc",
   "metadata": {},
   "outputs": [
    {
     "data": {
      "text/plain": [
       "0         NaN\n",
       "1    02-01-24\n",
       "2    03-01-24\n",
       "3    04-01-24\n",
       "4    05-01-24\n",
       "Name: signup_date, dtype: object"
      ]
     },
     "execution_count": 4,
     "metadata": {},
     "output_type": "execute_result"
    }
   ],
   "source": [
    "df['signup_date'].head()"
   ]
  },
  {
   "cell_type": "code",
   "execution_count": 14,
   "id": "6c048b8f-dc71-4a69-845c-1bba044ec45d",
   "metadata": {},
   "outputs": [
    {
     "name": "stdout",
     "output_type": "stream",
     "text": [
      "\n",
      "Count of missing values:\n",
      " customer_id           0\n",
      "name                  0\n",
      "email                34\n",
      "signup_date         300\n",
      "source                9\n",
      "region               30\n",
      "plan_selected         8\n",
      "marketing_opt_in     10\n",
      "age                  12\n",
      "gender                8\n",
      "dtype: int64\n",
      "\n",
      "Percentage of missing values:\n",
      " customer_id           0.000000\n",
      "name                  0.000000\n",
      "email                11.333333\n",
      "signup_date         100.000000\n",
      "source                3.000000\n",
      "region               10.000000\n",
      "plan_selected         2.666667\n",
      "marketing_opt_in      3.333333\n",
      "age                   4.000000\n",
      "gender                2.666667\n",
      "dtype: float64\n"
     ]
    }
   ],
   "source": [
    "#Count missing values\n",
    "missing_values = df.isnull().sum()\n",
    "print(\"\\nCount of missing values:\\n\", missing_values)\n",
    "\n",
    "#percentage of missing values\n",
    "missing_values_percentage = (df.isnull().sum()/len(df))*100\n",
    "print(\"\\nPercentage of missing values:\\n\", missing_values_percentage)\n"
   ]
  },
  {
   "cell_type": "code",
   "execution_count": 8,
   "id": "f79b96cb-e8c9-4a75-a0f6-f52e22c4ee24",
   "metadata": {},
   "outputs": [
    {
     "name": "stdout",
     "output_type": "stream",
     "text": [
      "\n",
      "Count of missing values:\n",
      " customer_id           2\n",
      "name                  0\n",
      "email                 0\n",
      "signup_date         300\n",
      "source                0\n",
      "region                0\n",
      "plan_selected         0\n",
      "marketing_opt_in      0\n",
      "age                   0\n",
      "gender                0\n",
      "dtype: int64\n",
      "\n",
      "Percentage of missing values:\n",
      " customer_id           0.666667\n",
      "name                  0.000000\n",
      "email                 0.000000\n",
      "signup_date         100.000000\n",
      "source                0.000000\n",
      "region                0.000000\n",
      "plan_selected         0.000000\n",
      "marketing_opt_in      0.000000\n",
      "age                   0.000000\n",
      "gender                0.000000\n",
      "dtype: float64\n"
     ]
    }
   ],
   "source": [
    "#fill missing values of columns\n",
    "df['name'] = df['name'].fillna('Unknown')\n",
    "df['email'] = df['email'].fillna('unknown@example.com')\n",
    "df['source'] = df['source'].fillna('unknown')\n",
    "df['region'] = df['region'].fillna('Unknown')\n",
    "df['plan_selected'] = df['plan_selected'].fillna(df['plan_selected'].mode()[0])\n",
    "#Assume no marketing optin for missing value\n",
    "df['marketing_opt_in'] = df['marketing_opt_in'].fillna('No')\n",
    "df['age'] = pd.to_numeric(df['age'], errors='coerce')\n",
    "df['age'] = df['age'].fillna(df['age'].median())\n",
    "df['gender'] = df['gender'].fillna(df['gender'].mode()[0])\n",
    "\n",
    "#Count missing values\n",
    "missing_values = df.isnull().sum()\n",
    "print(\"\\nCount of missing values:\\n\", missing_values)\n",
    "\n",
    "#percentage of missing values\n",
    "missing_values_percentage = (df.isnull().sum()/len(df))*100\n",
    "print(\"\\nPercentage of missing values:\\n\", missing_values_percentage)\n",
    "\n",
    "#Convert signup_date to datetime \n",
    "df['signup_date'] = pd.to_datetime(df['signup_date'], format = '%m/%d/%Y', errors = 'coerce')"
   ]
  },
  {
   "cell_type": "code",
   "execution_count": 6,
   "id": "9a311cc7-a291-40a1-a20a-5d0d5702fe00",
   "metadata": {},
   "outputs": [],
   "source": [
    "#Standardization of inconsistenece values\n",
    "df['plan_selected'] = df['plan_selected'].str.strip().str.title()\n",
    "df['gender'] = df['gender'].str.strip().str.title()"
   ]
  },
  {
   "cell_type": "code",
   "execution_count": 7,
   "id": "07db59eb-347f-4c7c-bc00-1d235fde7a97",
   "metadata": {},
   "outputs": [
    {
     "data": {
      "text/html": [
       "<div>\n",
       "<style scoped>\n",
       "    .dataframe tbody tr th:only-of-type {\n",
       "        vertical-align: middle;\n",
       "    }\n",
       "\n",
       "    .dataframe tbody tr th {\n",
       "        vertical-align: top;\n",
       "    }\n",
       "\n",
       "    .dataframe thead th {\n",
       "        text-align: right;\n",
       "    }\n",
       "</style>\n",
       "<table border=\"1\" class=\"dataframe\">\n",
       "  <thead>\n",
       "    <tr style=\"text-align: right;\">\n",
       "      <th></th>\n",
       "      <th>customer_id</th>\n",
       "      <th>name</th>\n",
       "      <th>email</th>\n",
       "      <th>signup_date</th>\n",
       "      <th>source</th>\n",
       "      <th>region</th>\n",
       "      <th>plan_selected</th>\n",
       "      <th>marketing_opt_in</th>\n",
       "      <th>age</th>\n",
       "      <th>gender</th>\n",
       "    </tr>\n",
       "  </thead>\n",
       "  <tbody>\n",
       "    <tr>\n",
       "      <th>0</th>\n",
       "      <td>CUST00000</td>\n",
       "      <td>Joshua Bryant</td>\n",
       "      <td>NaN</td>\n",
       "      <td>NaT</td>\n",
       "      <td>Instagram</td>\n",
       "      <td>NaN</td>\n",
       "      <td>Basic</td>\n",
       "      <td>No</td>\n",
       "      <td>34</td>\n",
       "      <td>Female</td>\n",
       "    </tr>\n",
       "    <tr>\n",
       "      <th>1</th>\n",
       "      <td>CUST00001</td>\n",
       "      <td>Nicole Stewart</td>\n",
       "      <td>nicole1@example.com</td>\n",
       "      <td>NaT</td>\n",
       "      <td>LinkedIn</td>\n",
       "      <td>West</td>\n",
       "      <td>Basic</td>\n",
       "      <td>Yes</td>\n",
       "      <td>29</td>\n",
       "      <td>Male</td>\n",
       "    </tr>\n",
       "    <tr>\n",
       "      <th>2</th>\n",
       "      <td>CUST00002</td>\n",
       "      <td>Rachel Allen</td>\n",
       "      <td>rachel2@example.com</td>\n",
       "      <td>NaT</td>\n",
       "      <td>Google</td>\n",
       "      <td>North</td>\n",
       "      <td>Premium</td>\n",
       "      <td>Yes</td>\n",
       "      <td>34</td>\n",
       "      <td>Non-Binary</td>\n",
       "    </tr>\n",
       "    <tr>\n",
       "      <th>3</th>\n",
       "      <td>CUST00003</td>\n",
       "      <td>Zachary Sanchez</td>\n",
       "      <td>zachary3@mailhub.org</td>\n",
       "      <td>NaT</td>\n",
       "      <td>YouTube</td>\n",
       "      <td>NaN</td>\n",
       "      <td>Pro</td>\n",
       "      <td>No</td>\n",
       "      <td>40</td>\n",
       "      <td>Male</td>\n",
       "    </tr>\n",
       "    <tr>\n",
       "      <th>4</th>\n",
       "      <td>CUST00004</td>\n",
       "      <td>NaN</td>\n",
       "      <td>matthew4@mailhub.org</td>\n",
       "      <td>NaT</td>\n",
       "      <td>LinkedIn</td>\n",
       "      <td>West</td>\n",
       "      <td>Premium</td>\n",
       "      <td>No</td>\n",
       "      <td>25</td>\n",
       "      <td>Other</td>\n",
       "    </tr>\n",
       "    <tr>\n",
       "      <th>5</th>\n",
       "      <td>CUST00005</td>\n",
       "      <td>John Gonzales</td>\n",
       "      <td>john5@mailhub.org</td>\n",
       "      <td>NaT</td>\n",
       "      <td>Facebook</td>\n",
       "      <td>South</td>\n",
       "      <td>Premium</td>\n",
       "      <td>No</td>\n",
       "      <td>34</td>\n",
       "      <td>Other</td>\n",
       "    </tr>\n",
       "    <tr>\n",
       "      <th>6</th>\n",
       "      <td>CUST00006</td>\n",
       "      <td>Crystal Mason</td>\n",
       "      <td>crystal6@mailhub.org</td>\n",
       "      <td>NaT</td>\n",
       "      <td>YouTube</td>\n",
       "      <td>North</td>\n",
       "      <td>Unknownplan</td>\n",
       "      <td>Yes</td>\n",
       "      <td>40</td>\n",
       "      <td>Male</td>\n",
       "    </tr>\n",
       "    <tr>\n",
       "      <th>7</th>\n",
       "      <td>CUST00007</td>\n",
       "      <td>Michael Bailey</td>\n",
       "      <td>michael7@mailhub.org</td>\n",
       "      <td>NaT</td>\n",
       "      <td>YouTube</td>\n",
       "      <td>Central</td>\n",
       "      <td>Pro</td>\n",
       "      <td>Yes</td>\n",
       "      <td>60</td>\n",
       "      <td>Other</td>\n",
       "    </tr>\n",
       "    <tr>\n",
       "      <th>8</th>\n",
       "      <td>CUST00008</td>\n",
       "      <td>Bianca Morris</td>\n",
       "      <td>bianca8@example.com</td>\n",
       "      <td>NaT</td>\n",
       "      <td>Referral</td>\n",
       "      <td>West</td>\n",
       "      <td>Pro</td>\n",
       "      <td>Yes</td>\n",
       "      <td>25</td>\n",
       "      <td>Male</td>\n",
       "    </tr>\n",
       "    <tr>\n",
       "      <th>9</th>\n",
       "      <td>CUST00009</td>\n",
       "      <td>Cindy Anderson</td>\n",
       "      <td>NaN</td>\n",
       "      <td>NaT</td>\n",
       "      <td>Google</td>\n",
       "      <td>East</td>\n",
       "      <td>Premium</td>\n",
       "      <td>No</td>\n",
       "      <td>29</td>\n",
       "      <td>Female</td>\n",
       "    </tr>\n",
       "  </tbody>\n",
       "</table>\n",
       "</div>"
      ],
      "text/plain": [
       "  customer_id             name                 email signup_date     source  \\\n",
       "0   CUST00000    Joshua Bryant                   NaN         NaT  Instagram   \n",
       "1   CUST00001   Nicole Stewart   nicole1@example.com         NaT   LinkedIn   \n",
       "2   CUST00002     Rachel Allen   rachel2@example.com         NaT     Google   \n",
       "3   CUST00003  Zachary Sanchez  zachary3@mailhub.org         NaT    YouTube   \n",
       "4   CUST00004              NaN  matthew4@mailhub.org         NaT   LinkedIn   \n",
       "5   CUST00005    John Gonzales     john5@mailhub.org         NaT   Facebook   \n",
       "6   CUST00006    Crystal Mason  crystal6@mailhub.org         NaT    YouTube   \n",
       "7   CUST00007   Michael Bailey  michael7@mailhub.org         NaT    YouTube   \n",
       "8   CUST00008    Bianca Morris   bianca8@example.com         NaT   Referral   \n",
       "9   CUST00009   Cindy Anderson                   NaN         NaT     Google   \n",
       "\n",
       "    region plan_selected marketing_opt_in age      gender  \n",
       "0      NaN         Basic               No  34      Female  \n",
       "1     West         Basic              Yes  29        Male  \n",
       "2    North       Premium              Yes  34  Non-Binary  \n",
       "3      NaN           Pro               No  40        Male  \n",
       "4     West       Premium               No  25       Other  \n",
       "5    South       Premium               No  34       Other  \n",
       "6    North   Unknownplan              Yes  40        Male  \n",
       "7  Central           Pro              Yes  60       Other  \n",
       "8     West           Pro              Yes  25        Male  \n",
       "9     East       Premium               No  29      Female  "
      ]
     },
     "execution_count": 7,
     "metadata": {},
     "output_type": "execute_result"
    }
   ],
   "source": [
    "df.head(10)\n"
   ]
  },
  {
   "cell_type": "code",
   "execution_count": 8,
   "id": "f345b7b8-0cd9-4bca-8575-ceac92e374b3",
   "metadata": {},
   "outputs": [
    {
     "name": "stdout",
     "output_type": "stream",
     "text": [
      "<class 'pandas.core.frame.DataFrame'>\n",
      "RangeIndex: 300 entries, 0 to 299\n",
      "Data columns (total 10 columns):\n",
      " #   Column            Non-Null Count  Dtype         \n",
      "---  ------            --------------  -----         \n",
      " 0   customer_id       298 non-null    object        \n",
      " 1   name              291 non-null    object        \n",
      " 2   email             266 non-null    object        \n",
      " 3   signup_date       0 non-null      datetime64[ns]\n",
      " 4   source            291 non-null    object        \n",
      " 5   region            270 non-null    object        \n",
      " 6   plan_selected     292 non-null    object        \n",
      " 7   marketing_opt_in  290 non-null    object        \n",
      " 8   age               288 non-null    object        \n",
      " 9   gender            292 non-null    object        \n",
      "dtypes: datetime64[ns](1), object(9)\n",
      "memory usage: 23.6+ KB\n"
     ]
    }
   ],
   "source": [
    "df.info()"
   ]
  },
  {
   "cell_type": "code",
   "execution_count": 9,
   "id": "381f9f45-e191-4d60-8d19-a88640e564f6",
   "metadata": {},
   "outputs": [
    {
     "name": "stdout",
     "output_type": "stream",
     "text": [
      "    customer_id             name                    email signup_date  \\\n",
      "161         NaN    Robert Carter     robert61@example.com         NaT   \n",
      "287         NaN  Antonio Hammond  antonio87@inboxmail.net         NaT   \n",
      "\n",
      "        source region plan_selected marketing_opt_in age  gender  \n",
      "161   LinkedIn  South           Pro              Yes  34    Male  \n",
      "287  Instagram   West          Prem              Yes  25  Female  \n"
     ]
    }
   ],
   "source": [
    "#finding number of duplicate rows on the basis of customer id column\n",
    "\n",
    "duplicates = df[df.duplicated(subset = 'customer_id', keep = False)]\n",
    "print(duplicates)\n"
   ]
  },
  {
   "cell_type": "code",
   "execution_count": 10,
   "id": "337e1c16-c41a-4054-a5ef-82809a0d080b",
   "metadata": {},
   "outputs": [
    {
     "name": "stdout",
     "output_type": "stream",
     "text": [
      "    customer_id             name                    email signup_date  \\\n",
      "161         NaN    Robert Carter     robert61@example.com         NaT   \n",
      "287         NaN  Antonio Hammond  antonio87@inboxmail.net         NaT   \n",
      "\n",
      "        source region plan_selected marketing_opt_in age  gender  \n",
      "161   LinkedIn  South           Pro              Yes  34    Male  \n",
      "287  Instagram   West          Prem              Yes  25  Female  \n"
     ]
    }
   ],
   "source": [
    "# Check for rows with missing customer_id\n",
    "missing_id_rows = df[df['customer_id'].isnull()]\n",
    "print(missing_id_rows)\n"
   ]
  },
  {
   "cell_type": "code",
   "execution_count": 11,
   "id": "54d3817c-2c5c-4436-b82a-dc21178bffa1",
   "metadata": {},
   "outputs": [
    {
     "name": "stdout",
     "output_type": "stream",
     "text": [
      "0\n"
     ]
    }
   ],
   "source": [
    "#Fill missing value in customer id randomly\n",
    "df['customer_id'] = df['customer_id'].apply(lambda x: str(uuid.uuid4()) if pd.isna(x) else x)\n",
    "print(df['customer_id'].isna().sum())\n"
   ]
  },
  {
   "cell_type": "code",
   "execution_count": 12,
   "id": "637e1e87-a9ff-4da8-93b2-dda3dc167337",
   "metadata": {},
   "outputs": [
    {
     "data": {
      "text/plain": [
       "np.int64(0)"
      ]
     },
     "execution_count": 12,
     "metadata": {},
     "output_type": "execute_result"
    }
   ],
   "source": [
    "\n",
    "df['customer_id'].isna().sum()\n"
   ]
  },
  {
   "cell_type": "code",
   "execution_count": 13,
   "id": "79331820-e751-4401-9d4f-60ee1775f5b4",
   "metadata": {},
   "outputs": [
    {
     "data": {
      "text/plain": [
       "np.int64(30)"
      ]
     },
     "execution_count": 13,
     "metadata": {},
     "output_type": "execute_result"
    }
   ],
   "source": [
    "#finding missing values in age, region and email\n",
    "df['region'].isna().sum()\n"
   ]
  },
  {
   "cell_type": "code",
   "execution_count": 14,
   "id": "bd48eabf-f38d-47e6-a678-7901700fd569",
   "metadata": {},
   "outputs": [
    {
     "data": {
      "text/plain": [
       "np.int64(34)"
      ]
     },
     "execution_count": 14,
     "metadata": {},
     "output_type": "execute_result"
    }
   ],
   "source": [
    "df['email'].isna().sum()\n"
   ]
  },
  {
   "cell_type": "code",
   "execution_count": 15,
   "id": "bbcbce2e-16f9-48dc-8452-7fe75d62e75a",
   "metadata": {},
   "outputs": [
    {
     "data": {
      "text/plain": [
       "np.int64(12)"
      ]
     },
     "execution_count": 15,
     "metadata": {},
     "output_type": "execute_result"
    }
   ],
   "source": [
    "df['age'].isna().sum()"
   ]
  },
  {
   "cell_type": "code",
   "execution_count": 70,
   "id": "33d29596-4a70-4289-9ace-4e04edcb5975",
   "metadata": {},
   "outputs": [
    {
     "data": {
      "text/plain": [
       "np.int64(0)"
      ]
     },
     "execution_count": 70,
     "metadata": {},
     "output_type": "execute_result"
    }
   ],
   "source": [
    "#Fill missing region, age and email with Unknown \n",
    "df['region'] = df['region'].fillna('Unknown')\n",
    "df['email'] = df['email'].fillna('Unknown')\n",
    "df['age'] = df['age'].fillna('Unknown')\n",
    "\n",
    "df['age'].isna().sum()"
   ]
  },
  {
   "cell_type": "code",
   "execution_count": 17,
   "id": "4c00b0dc-6055-4465-8a8d-f56f4492b338",
   "metadata": {},
   "outputs": [
    {
     "name": "stdout",
     "output_type": "stream",
     "text": [
      "customer_id           0\n",
      "name                  9\n",
      "email                34\n",
      "signup_date         300\n",
      "source                9\n",
      "region                0\n",
      "plan_selected         8\n",
      "marketing_opt_in     10\n",
      "age                   0\n",
      "gender                8\n",
      "dtype: int64\n"
     ]
    }
   ],
   "source": [
    "#----------------------------------Data Quality Summary-------------------------------------------------------\n",
    "#missing value count\n",
    "missing_values_count = df.isnull().sum()\n",
    "print(missing_values_count)\n"
   ]
  },
  {
   "cell_type": "code",
   "execution_count": 18,
   "id": "973d9077-993d-42cb-9bf1-363d1ce20e9d",
   "metadata": {},
   "outputs": [
    {
     "name": "stdout",
     "output_type": "stream",
     "text": [
      "customer_id           0.000000\n",
      "name                  3.000000\n",
      "email                11.333333\n",
      "signup_date         100.000000\n",
      "source                3.000000\n",
      "region                0.000000\n",
      "plan_selected         2.666667\n",
      "marketing_opt_in      3.333333\n",
      "age                   0.000000\n",
      "gender                2.666667\n",
      "dtype: float64\n"
     ]
    }
   ],
   "source": [
    "#percentage of missing value count\n",
    "missing_values_percentage = (missing_values_count/len(df)) *100\n",
    "print(missing_values_percentage)"
   ]
  },
  {
   "cell_type": "code",
   "execution_count": 19,
   "id": "e0f52fb5-65cb-4b8c-b411-afff0fbc9d0c",
   "metadata": {},
   "outputs": [
    {
     "name": "stdout",
     "output_type": "stream",
     "text": [
      "0        Basic\n",
      "1        Basic\n",
      "2      Premium\n",
      "3          Pro\n",
      "4      Premium\n",
      "        ...   \n",
      "295    Premium\n",
      "296      Basic\n",
      "297      Basic\n",
      "298    Premium\n",
      "299    Premium\n",
      "Name: plan_selected, Length: 300, dtype: object\n",
      "0          Female\n",
      "1            Male\n",
      "2      Non-Binary\n",
      "3            Male\n",
      "4           Other\n",
      "          ...    \n",
      "295           NaN\n",
      "296        Female\n",
      "297           NaN\n",
      "298          Male\n",
      "299          Male\n",
      "Name: gender, Length: 300, dtype: object\n"
     ]
    }
   ],
   "source": [
    "#Inconsistent values corrected\n",
    "df['plan_selected'] = df['plan_selected'].str.strip().str.title()\n",
    "df['gender'] = df['gender'].str.strip().str.title()\n",
    "print(df['plan_selected'])\n",
    "print(df['gender'])"
   ]
  },
  {
   "cell_type": "code",
   "execution_count": 20,
   "id": "5c8fb66d-19b4-4af3-8b8a-b09a63af34fd",
   "metadata": {},
   "outputs": [],
   "source": [
    "# No duplicates on the basis of customer_id found"
   ]
  },
  {
   "cell_type": "code",
   "execution_count": 21,
   "id": "9fd9aa4d-9ac4-4134-976c-41c01f456de7",
   "metadata": {},
   "outputs": [
    {
     "name": "stdout",
     "output_type": "stream",
     "text": [
      "Sign-ups per week:\n",
      "sign_ups_week\n",
      "NaT    300\n",
      "Name: count, dtype: int64\n"
     ]
    }
   ],
   "source": [
    "#---------------Summary outputs using pandas aggregation-----------\n",
    "\n",
    "\n",
    "#Sign ups per week\n",
    "df['signup_date'] = pd.to_datetime(df['signup_date'], format='%m/%d/%Y', errors='coerce')\n",
    "df['sign_ups_week'] = df['signup_date'].dt.to_period('W').astype(str)\n",
    "sign_ups_per_week = df['sign_ups_week'].value_counts().sort_index()\n",
    "\n",
    "print(\"Sign-ups per week:\")\n",
    "print(sign_ups_per_week)\n",
    "\n",
    "    "
   ]
  },
  {
   "cell_type": "code",
   "execution_count": 22,
   "id": "6194ddc9-638d-4ec3-af33-d8e707fbbb7c",
   "metadata": {},
   "outputs": [
    {
     "name": "stdout",
     "output_type": "stream",
     "text": [
      "0   NaT\n",
      "1   NaT\n",
      "2   NaT\n",
      "3   NaT\n",
      "4   NaT\n",
      "5   NaT\n",
      "6   NaT\n",
      "7   NaT\n",
      "8   NaT\n",
      "9   NaT\n",
      "Name: signup_date, dtype: datetime64[ns]\n"
     ]
    }
   ],
   "source": [
    "print(df['signup_date'].head(10))\n"
   ]
  },
  {
   "cell_type": "code",
   "execution_count": 23,
   "id": "44795b43-00ba-438c-b6ba-94e977980779",
   "metadata": {},
   "outputs": [
    {
     "name": "stdout",
     "output_type": "stream",
     "text": [
      "sign_ups_week\n",
      "NaT    300\n",
      "Name: count, dtype: int64\n"
     ]
    }
   ],
   "source": [
    "\n",
    "\n",
    "\n",
    "df['signup_date'] = pd.to_datetime(df['signup_date'], errors='coerce', dayfirst=True)\n",
    "df['sign_ups_week'] = df['signup_date'].dt.to_period('W').astype(str)\n",
    "sign_ups_per_week = df['sign_ups_week'].value_counts().sort_index()\n",
    "print(sign_ups_per_week)"
   ]
  },
  {
   "cell_type": "code",
   "execution_count": null,
   "id": "6f57c270-bff1-498b-a21f-bf3b4b4baf1e",
   "metadata": {},
   "outputs": [],
   "source": [
    "\n"
   ]
  },
  {
   "cell_type": "code",
   "execution_count": 24,
   "id": "2120a7d1-a4f5-4d5a-973a-9bae323274a5",
   "metadata": {},
   "outputs": [
    {
     "name": "stdout",
     "output_type": "stream",
     "text": [
      "0   NaT\n",
      "1   NaT\n",
      "2   NaT\n",
      "3   NaT\n",
      "4   NaT\n",
      "5   NaT\n",
      "6   NaT\n",
      "7   NaT\n",
      "8   NaT\n",
      "9   NaT\n",
      "Name: signup_date, dtype: datetime64[ns]\n"
     ]
    }
   ],
   "source": [
    "print(df['signup_date'].head(10))  # BEFORE conversion\n"
   ]
  },
  {
   "cell_type": "code",
   "execution_count": 71,
   "id": "fbd35ebd-c717-49e2-8083-ff3f93aadc54",
   "metadata": {},
   "outputs": [
    {
     "name": "stdout",
     "output_type": "stream",
     "text": [
      "sign_ups_week\n",
      "2024-01-01/2024-01-07    6\n",
      "2024-01-08/2024-01-14    7\n",
      "2024-01-15/2024-01-21    7\n",
      "2024-01-22/2024-01-28    5\n",
      "2024-01-29/2024-02-04    6\n",
      "2024-02-05/2024-02-11    5\n",
      "2024-02-12/2024-02-18    7\n",
      "2024-02-19/2024-02-25    6\n",
      "2024-02-26/2024-03-03    6\n",
      "2024-03-04/2024-03-10    7\n",
      "2024-03-11/2024-03-17    5\n",
      "2024-03-18/2024-03-24    6\n",
      "2024-03-25/2024-03-31    4\n",
      "2024-04-01/2024-04-07    7\n",
      "2024-04-08/2024-04-14    7\n",
      "2024-04-15/2024-04-21    5\n",
      "2024-04-22/2024-04-28    6\n",
      "2024-04-29/2024-05-05    5\n",
      "2024-05-06/2024-05-12    5\n",
      "2024-05-13/2024-05-19    7\n",
      "2024-05-20/2024-05-26    5\n",
      "2024-05-27/2024-06-02    7\n",
      "2024-06-03/2024-06-09    5\n",
      "2024-06-10/2024-06-16    7\n",
      "2024-06-17/2024-06-23    7\n",
      "2024-06-24/2024-06-30    7\n",
      "2024-07-01/2024-07-07    7\n",
      "2024-07-08/2024-07-14    7\n",
      "2024-07-15/2024-07-21    6\n",
      "2024-07-22/2024-07-28    5\n",
      "2024-07-29/2024-08-04    7\n",
      "2024-08-05/2024-08-11    6\n",
      "2024-08-12/2024-08-18    6\n",
      "2024-08-19/2024-08-25    6\n",
      "2024-08-26/2024-09-01    6\n",
      "2024-09-02/2024-09-08    6\n",
      "2024-09-09/2024-09-15    6\n",
      "2024-09-16/2024-09-22    6\n",
      "2024-09-23/2024-09-29    7\n",
      "2024-09-30/2024-10-06    7\n",
      "2024-10-07/2024-10-13    7\n",
      "2024-10-14/2024-10-20    5\n",
      "2024-10-21/2024-10-27    6\n",
      "NaT                      7\n",
      "Name: count, dtype: int64\n"
     ]
    }
   ],
   "source": [
    "\n",
    "\n",
    "# First, make a clean string version of the date\n",
    "df['signup_date_clean'] = df['signup_date'].astype(str).str.strip()\n",
    "\n",
    "# remove time parts if present (e.g., '13-08-24 00:00:00')\n",
    "df['signup_date_clean'] = df['signup_date_clean'].str.extract(r'([\\d/-]+)')\n",
    "\n",
    "# Handle both dd/mm/yyyy and dd-mm-yy by trying multiple formats\n",
    "def try_parse(date_str):\n",
    "    for fmt in ('%d/%m/%Y', '%d-%m-%Y', '%d-%m-%y', '%d/%m/%y'):\n",
    "        try:\n",
    "            return pd.to_datetime(date_str, format=fmt, dayfirst=True)\n",
    "        except:\n",
    "            continue\n",
    "    return pd.NaT\n",
    "\n",
    "df['signup_date_parsed'] = df['signup_date_clean'].apply(try_parse)\n",
    "\n",
    "# Now use parsed dates\n",
    "df['sign_ups_week'] = df['signup_date_parsed'].dt.to_period('W').astype(str)\n",
    "sign_ups_per_week = df['sign_ups_week'].value_counts().sort_index()\n",
    "\n",
    "print(sign_ups_per_week)\n"
   ]
  },
  {
   "cell_type": "code",
   "execution_count": 72,
   "id": "a9895271-1824-4058-b056-9be11b442ce6",
   "metadata": {},
   "outputs": [
    {
     "name": "stdout",
     "output_type": "stream",
     "text": [
      "       source   region plan_selected  sign_up_count\n",
      "0          ??  Central           Pro              1\n",
      "1          ??    South           Pro              1\n",
      "2          ??     West         Basic              1\n",
      "3          ??     West           Pro              1\n",
      "4    Facebook  Central       PREMIUM              1\n",
      "..        ...      ...           ...            ...\n",
      "150   YouTube  Unknown         basic              2\n",
      "151   YouTube     West         Basic              1\n",
      "152   YouTube     West       PREMIUM              2\n",
      "153   YouTube     West       Premium              3\n",
      "154   YouTube     West           Pro              1\n",
      "\n",
      "[155 rows x 4 columns]\n"
     ]
    }
   ],
   "source": [
    "#Sign ups by source, region and plan selected\n",
    "\n",
    "signups_summary = df.groupby(['source','region','plan_selected']).size().reset_index(name = 'sign_up_count')\n",
    "print(signups_summary)\n"
   ]
  },
  {
   "cell_type": "code",
   "execution_count": 27,
   "id": "a5fe7cc6-7a5d-4e77-9b1a-34ea3bac7265",
   "metadata": {},
   "outputs": [
    {
     "name": "stdout",
     "output_type": "stream",
     "text": [
      "marketing_opt_in  Nil  No  Yes\n",
      "gender                        \n",
      "123                 0   3    3\n",
      "Female              0  47   45\n",
      "Male                1  50   38\n",
      "Non-Binary          0  20   19\n",
      "Other               0  32   24\n"
     ]
    }
   ],
   "source": [
    "#Marketing Opt_in counts by gender\n",
    "df['gender'] = df['gender'].str.strip().str.title()\n",
    "marketing_opt_in_counts_by_gender = df.groupby('gender')['marketing_opt_in'].value_counts().unstack(fill_value=0)\n",
    "print(marketing_opt_in_counts_by_gender)"
   ]
  },
  {
   "cell_type": "code",
   "execution_count": 28,
   "id": "f3eb2224-08b8-4ffc-9f90-83f4a57291e1",
   "metadata": {},
   "outputs": [
    {
     "name": "stdout",
     "output_type": "stream",
     "text": [
      "{'min': np.float64(21.0), 'max': np.float64(206.0), 'mean': np.float64(36.13523131672598), 'median': np.float64(34.0), 'null_count': np.int64(19)}\n"
     ]
    }
   ],
   "source": [
    "#Age Summary - Min, Max, median, mean, null count\n",
    "df['age'] = pd.to_numeric(df['age'], errors='coerce')\n",
    "\n",
    "age_summary = {\n",
    "    'min': df['age'].min(),\n",
    "    'max': df['age'].max(),\n",
    "    'mean': df['age'].mean(),\n",
    "    'median': df['age'].median(),\n",
    "    'null_count': df['age'].isna().sum()\n",
    "}\n",
    "print(age_summary)\n"
   ]
  },
  {
   "cell_type": "code",
   "execution_count": 73,
   "id": "a87f2746-d6fa-4e28-b06d-9f87d5c51394",
   "metadata": {},
   "outputs": [
    {
     "name": "stdout",
     "output_type": "stream",
     "text": [
      "Number of customers who contacted support within two weeks duration:26\n"
     ]
    },
    {
     "name": "stderr",
     "output_type": "stream",
     "text": [
      "C:\\Users\\kpk laptops\\AppData\\Local\\Temp\\ipykernel_18516\\3892938080.py:3: UserWarning: Parsing dates in %Y-%m-%d format when dayfirst=True was specified. Pass `dayfirst=False` or specify a format to silence this warning.\n",
      "  support_df['ticket_date'] = pd.to_datetime(support_df['ticket_date'], errors='coerce', dayfirst=True)\n"
     ]
    }
   ],
   "source": [
    "support_df = pd.read_csv(\"D:/Uptrail Internship/support_tickets.csv\")\n",
    "\n",
    "support_df['ticket_date'] = pd.to_datetime(support_df['ticket_date'], errors='coerce', dayfirst=True)\n",
    "support_df.columns = support_df.columns.str.strip()\n",
    "\n",
    "# Merge the two datasets\n",
    "\n",
    "merged_df = pd.merge(df, support_df, on = 'customer_id', how = 'left' )\n",
    "df.columns = df.columns.str.strip() \n",
    "\n",
    "#Calculate days between signup and support ticket\n",
    "merged_df['days_to_support'] = (merged_df['ticket_date'] - merged_df['signup_date_parsed']).dt.days\n",
    "#Filter customers who contacted support within two weeks\n",
    "\n",
    "within_two_weeks = merged_df[merged_df['days_to_support'].between(0,14)]\n",
    "\n",
    "#Count of customers who contacted support within two weeks\n",
    "\n",
    "count_customers_within_two_weeks = within_two_weeks['customer_id'].nunique()\n",
    "\n",
    "print(f\"Number of customers who contacted support within two weeks duration:{count_customers_within_two_weeks}\")\n",
    "\n",
    "\n"
   ]
  },
  {
   "cell_type": "code",
   "execution_count": 30,
   "id": "9bed0b0e-d721-43cf-90a9-5dbfb8a45b15",
   "metadata": {},
   "outputs": [
    {
     "name": "stdout",
     "output_type": "stream",
     "text": [
      "✅ 'signup_date_parsed' is datetime.\n",
      "✅ 'ticket_date' is datetime.\n"
     ]
    }
   ],
   "source": [
    "\n",
    "# Check if columns are datetime after conversion\n",
    "# Check the *parsed* version\n",
    "from pandas.api.types import is_datetime64_any_dtype\n",
    "\n",
    "if is_datetime64_any_dtype(df['signup_date_parsed']):\n",
    "    print(\"✅ 'signup_date_parsed' is datetime.\")\n",
    "else:\n",
    "    print(\"❌ 'signup_date_parsed' is NOT datetime.\")\n",
    "\n",
    "if pd.api.types.is_datetime64_any_dtype(merged_df['ticket_date']):\n",
    "    print(\"✅ 'ticket_date' is datetime.\")\n",
    "else:\n",
    "    print(\"❌ 'ticket_date' is NOT datetime.\")\n"
   ]
  },
  {
   "cell_type": "code",
   "execution_count": 31,
   "id": "45013c4c-e9ce-465d-8a12-a80506cf4aa7",
   "metadata": {},
   "outputs": [
    {
     "name": "stdout",
     "output_type": "stream",
     "text": [
      "    plan_selected                    region  total_support_tickets  \\\n",
      "0           Basic                   Unknown                      3   \n",
      "1           Basic      alfred77@example.com                      0   \n",
      "2           Basic      amanda45@example.com                      0   \n",
      "3           Basic       andre51@mailhub.org                      0   \n",
      "4           Basic      andrea31@mailhub.org                      0   \n",
      "..            ...                       ...                    ...   \n",
      "258   Unknownplan     caitlin37@example.com                      0   \n",
      "259   Unknownplan      crystal6@mailhub.org                      0   \n",
      "260   Unknownplan       ellen92@mailhub.org                      0   \n",
      "261   Unknownplan  jacqueline63@example.com                      0   \n",
      "262   Unknownplan       kevin29@example.com                      3   \n",
      "\n",
      "     unique_customers  \n",
      "0                   8  \n",
      "1                   1  \n",
      "2                   1  \n",
      "3                   1  \n",
      "4                   1  \n",
      "..                ...  \n",
      "258                 1  \n",
      "259                 1  \n",
      "260                 1  \n",
      "261                 1  \n",
      "262                 1  \n",
      "\n",
      "[263 rows x 4 columns]\n"
     ]
    }
   ],
   "source": [
    "#Support activity by plan and region\n",
    "\n",
    "support_activity = merged_df.groupby(['plan_selected','region']).agg(total_support_tickets = ('ticket_id', 'count' ), unique_customers = ('customer_id', 'nunique')).reset_index()\n",
    "print(support_activity)"
   ]
  },
  {
   "cell_type": "code",
   "execution_count": 32,
   "id": "cd1de3b4-9e3e-4dc5-9c14-0d1fc197b2d1",
   "metadata": {},
   "outputs": [
    {
     "name": "stdout",
     "output_type": "stream",
     "text": [
      "Index(['ticket_id', 'customer_id', 'ticket_date', 'issue_type', 'resolved'], dtype='object')\n"
     ]
    }
   ],
   "source": [
    "print(support_df.columns)\n"
   ]
  },
  {
   "cell_type": "code",
   "execution_count": 33,
   "id": "925ab86e-e25d-447a-ad43-762ad718ae42",
   "metadata": {},
   "outputs": [
    {
     "name": "stdout",
     "output_type": "stream",
     "text": [
      "True\n"
     ]
    }
   ],
   "source": [
    "print(\"ticket_id\" in merged_df.columns)"
   ]
  },
  {
   "cell_type": "code",
   "execution_count": 3,
   "id": "ed2cef18-131b-4069-a1f2-3eb52292781e",
   "metadata": {},
   "outputs": [
    {
     "ename": "KeyError",
     "evalue": "'signup_date_parsed'",
     "output_type": "error",
     "traceback": [
      "\u001b[31m---------------------------------------------------------------------------\u001b[39m",
      "\u001b[31mKeyError\u001b[39m                                  Traceback (most recent call last)",
      "\u001b[36mFile \u001b[39m\u001b[32m~\\AppData\\Local\\Programs\\Python\\Python313\\Lib\\site-packages\\pandas\\core\\indexes\\base.py:3812\u001b[39m, in \u001b[36mIndex.get_loc\u001b[39m\u001b[34m(self, key)\u001b[39m\n\u001b[32m   3811\u001b[39m \u001b[38;5;28;01mtry\u001b[39;00m:\n\u001b[32m-> \u001b[39m\u001b[32m3812\u001b[39m     \u001b[38;5;28;01mreturn\u001b[39;00m \u001b[38;5;28;43mself\u001b[39;49m\u001b[43m.\u001b[49m\u001b[43m_engine\u001b[49m\u001b[43m.\u001b[49m\u001b[43mget_loc\u001b[49m\u001b[43m(\u001b[49m\u001b[43mcasted_key\u001b[49m\u001b[43m)\u001b[49m\n\u001b[32m   3813\u001b[39m \u001b[38;5;28;01mexcept\u001b[39;00m \u001b[38;5;167;01mKeyError\u001b[39;00m \u001b[38;5;28;01mas\u001b[39;00m err:\n",
      "\u001b[36mFile \u001b[39m\u001b[32mpandas/_libs/index.pyx:167\u001b[39m, in \u001b[36mpandas._libs.index.IndexEngine.get_loc\u001b[39m\u001b[34m()\u001b[39m\n",
      "\u001b[36mFile \u001b[39m\u001b[32mpandas/_libs/index.pyx:196\u001b[39m, in \u001b[36mpandas._libs.index.IndexEngine.get_loc\u001b[39m\u001b[34m()\u001b[39m\n",
      "\u001b[36mFile \u001b[39m\u001b[32mpandas/_libs/hashtable_class_helper.pxi:7088\u001b[39m, in \u001b[36mpandas._libs.hashtable.PyObjectHashTable.get_item\u001b[39m\u001b[34m()\u001b[39m\n",
      "\u001b[36mFile \u001b[39m\u001b[32mpandas/_libs/hashtable_class_helper.pxi:7096\u001b[39m, in \u001b[36mpandas._libs.hashtable.PyObjectHashTable.get_item\u001b[39m\u001b[34m()\u001b[39m\n",
      "\u001b[31mKeyError\u001b[39m: 'signup_date_parsed'",
      "\nThe above exception was the direct cause of the following exception:\n",
      "\u001b[31mKeyError\u001b[39m                                  Traceback (most recent call last)",
      "\u001b[36mCell\u001b[39m\u001b[36m \u001b[39m\u001b[32mIn[3]\u001b[39m\u001b[32m, line 5\u001b[39m\n\u001b[32m      1\u001b[39m \u001b[38;5;66;03m#Finding answers for business questions\u001b[39;00m\n\u001b[32m      2\u001b[39m \n\u001b[32m      3\u001b[39m \u001b[38;5;66;03m# which acquisition source brought in most users last month\u001b[39;00m\n\u001b[32m----> \u001b[39m\u001b[32m5\u001b[39m df[\u001b[33m'\u001b[39m\u001b[33msignup_year_month\u001b[39m\u001b[33m'\u001b[39m] = \u001b[43mdf\u001b[49m\u001b[43m[\u001b[49m\u001b[33;43m'\u001b[39;49m\u001b[33;43msignup_date_parsed\u001b[39;49m\u001b[33;43m'\u001b[39;49m\u001b[43m]\u001b[49m.dt.to_period(\u001b[33m'\u001b[39m\u001b[33mM\u001b[39m\u001b[33m'\u001b[39m)\n\u001b[32m      6\u001b[39m \u001b[38;5;66;03m#Get the most recent month\u001b[39;00m\n\u001b[32m      8\u001b[39m last_month = df[\u001b[33m'\u001b[39m\u001b[33msignup_year_month\u001b[39m\u001b[33m'\u001b[39m].max()\n",
      "\u001b[36mFile \u001b[39m\u001b[32m~\\AppData\\Local\\Programs\\Python\\Python313\\Lib\\site-packages\\pandas\\core\\frame.py:4107\u001b[39m, in \u001b[36mDataFrame.__getitem__\u001b[39m\u001b[34m(self, key)\u001b[39m\n\u001b[32m   4105\u001b[39m \u001b[38;5;28;01mif\u001b[39;00m \u001b[38;5;28mself\u001b[39m.columns.nlevels > \u001b[32m1\u001b[39m:\n\u001b[32m   4106\u001b[39m     \u001b[38;5;28;01mreturn\u001b[39;00m \u001b[38;5;28mself\u001b[39m._getitem_multilevel(key)\n\u001b[32m-> \u001b[39m\u001b[32m4107\u001b[39m indexer = \u001b[38;5;28;43mself\u001b[39;49m\u001b[43m.\u001b[49m\u001b[43mcolumns\u001b[49m\u001b[43m.\u001b[49m\u001b[43mget_loc\u001b[49m\u001b[43m(\u001b[49m\u001b[43mkey\u001b[49m\u001b[43m)\u001b[49m\n\u001b[32m   4108\u001b[39m \u001b[38;5;28;01mif\u001b[39;00m is_integer(indexer):\n\u001b[32m   4109\u001b[39m     indexer = [indexer]\n",
      "\u001b[36mFile \u001b[39m\u001b[32m~\\AppData\\Local\\Programs\\Python\\Python313\\Lib\\site-packages\\pandas\\core\\indexes\\base.py:3819\u001b[39m, in \u001b[36mIndex.get_loc\u001b[39m\u001b[34m(self, key)\u001b[39m\n\u001b[32m   3814\u001b[39m     \u001b[38;5;28;01mif\u001b[39;00m \u001b[38;5;28misinstance\u001b[39m(casted_key, \u001b[38;5;28mslice\u001b[39m) \u001b[38;5;129;01mor\u001b[39;00m (\n\u001b[32m   3815\u001b[39m         \u001b[38;5;28misinstance\u001b[39m(casted_key, abc.Iterable)\n\u001b[32m   3816\u001b[39m         \u001b[38;5;129;01mand\u001b[39;00m \u001b[38;5;28many\u001b[39m(\u001b[38;5;28misinstance\u001b[39m(x, \u001b[38;5;28mslice\u001b[39m) \u001b[38;5;28;01mfor\u001b[39;00m x \u001b[38;5;129;01min\u001b[39;00m casted_key)\n\u001b[32m   3817\u001b[39m     ):\n\u001b[32m   3818\u001b[39m         \u001b[38;5;28;01mraise\u001b[39;00m InvalidIndexError(key)\n\u001b[32m-> \u001b[39m\u001b[32m3819\u001b[39m     \u001b[38;5;28;01mraise\u001b[39;00m \u001b[38;5;167;01mKeyError\u001b[39;00m(key) \u001b[38;5;28;01mfrom\u001b[39;00m\u001b[38;5;250m \u001b[39m\u001b[34;01merr\u001b[39;00m\n\u001b[32m   3820\u001b[39m \u001b[38;5;28;01mexcept\u001b[39;00m \u001b[38;5;167;01mTypeError\u001b[39;00m:\n\u001b[32m   3821\u001b[39m     \u001b[38;5;66;03m# If we have a listlike key, _check_indexing_error will raise\u001b[39;00m\n\u001b[32m   3822\u001b[39m     \u001b[38;5;66;03m#  InvalidIndexError. Otherwise we fall through and re-raise\u001b[39;00m\n\u001b[32m   3823\u001b[39m     \u001b[38;5;66;03m#  the TypeError.\u001b[39;00m\n\u001b[32m   3824\u001b[39m     \u001b[38;5;28mself\u001b[39m._check_indexing_error(key)\n",
      "\u001b[31mKeyError\u001b[39m: 'signup_date_parsed'"
     ]
    }
   ],
   "source": [
    "#Finding answers for business questions\n",
    "\n",
    "# which acquisition source brought in most users last month\n",
    "\n",
    "df['signup_year_month'] = df['signup_date_parsed'].dt.to_period('M')\n",
    "#Get the most recent month\n",
    "\n",
    "last_month = df['signup_year_month'].max()\n",
    "\n",
    "#filter rows for that last month\n",
    "\n",
    "last_month_data = df[df['signup_year_month'] == last_month]\n",
    "\n",
    "source_counts = last_month_data['source'].value_counts()\n",
    "\n",
    "print(f\"Sign up source distribution in {last_month}:\")\n",
    "\n",
    "print(source_counts)\n",
    "\n",
    "\n",
    "# UNABLE TO RESOLVE THIS ISSUE\n"
   ]
  },
  {
   "cell_type": "code",
   "execution_count": 4,
   "id": "c240f53a-66dd-45b4-b9c0-eb17a0fbef9d",
   "metadata": {},
   "outputs": [
    {
     "ename": "KeyError",
     "evalue": "'signup_date_parsed'",
     "output_type": "error",
     "traceback": [
      "\u001b[31m---------------------------------------------------------------------------\u001b[39m",
      "\u001b[31mKeyError\u001b[39m                                  Traceback (most recent call last)",
      "\u001b[36mFile \u001b[39m\u001b[32m~\\AppData\\Local\\Programs\\Python\\Python313\\Lib\\site-packages\\pandas\\core\\indexes\\base.py:3812\u001b[39m, in \u001b[36mIndex.get_loc\u001b[39m\u001b[34m(self, key)\u001b[39m\n\u001b[32m   3811\u001b[39m \u001b[38;5;28;01mtry\u001b[39;00m:\n\u001b[32m-> \u001b[39m\u001b[32m3812\u001b[39m     \u001b[38;5;28;01mreturn\u001b[39;00m \u001b[38;5;28;43mself\u001b[39;49m\u001b[43m.\u001b[49m\u001b[43m_engine\u001b[49m\u001b[43m.\u001b[49m\u001b[43mget_loc\u001b[49m\u001b[43m(\u001b[49m\u001b[43mcasted_key\u001b[49m\u001b[43m)\u001b[49m\n\u001b[32m   3813\u001b[39m \u001b[38;5;28;01mexcept\u001b[39;00m \u001b[38;5;167;01mKeyError\u001b[39;00m \u001b[38;5;28;01mas\u001b[39;00m err:\n",
      "\u001b[36mFile \u001b[39m\u001b[32mpandas/_libs/index.pyx:167\u001b[39m, in \u001b[36mpandas._libs.index.IndexEngine.get_loc\u001b[39m\u001b[34m()\u001b[39m\n",
      "\u001b[36mFile \u001b[39m\u001b[32mpandas/_libs/index.pyx:196\u001b[39m, in \u001b[36mpandas._libs.index.IndexEngine.get_loc\u001b[39m\u001b[34m()\u001b[39m\n",
      "\u001b[36mFile \u001b[39m\u001b[32mpandas/_libs/hashtable_class_helper.pxi:7088\u001b[39m, in \u001b[36mpandas._libs.hashtable.PyObjectHashTable.get_item\u001b[39m\u001b[34m()\u001b[39m\n",
      "\u001b[36mFile \u001b[39m\u001b[32mpandas/_libs/hashtable_class_helper.pxi:7096\u001b[39m, in \u001b[36mpandas._libs.hashtable.PyObjectHashTable.get_item\u001b[39m\u001b[34m()\u001b[39m\n",
      "\u001b[31mKeyError\u001b[39m: 'signup_date_parsed'",
      "\nThe above exception was the direct cause of the following exception:\n",
      "\u001b[31mKeyError\u001b[39m                                  Traceback (most recent call last)",
      "\u001b[36mCell\u001b[39m\u001b[36m \u001b[39m\u001b[32mIn[4]\u001b[39m\u001b[32m, line 5\u001b[39m\n\u001b[32m      1\u001b[39m \u001b[38;5;66;03m#Finding answers for business questions\u001b[39;00m\n\u001b[32m      2\u001b[39m \n\u001b[32m      3\u001b[39m \u001b[38;5;66;03m# which acquisition source brought in most users last month\u001b[39;00m\n\u001b[32m----> \u001b[39m\u001b[32m5\u001b[39m df[\u001b[33m'\u001b[39m\u001b[33msignup_year_month\u001b[39m\u001b[33m'\u001b[39m] = \u001b[43mdf\u001b[49m\u001b[43m[\u001b[49m\u001b[33;43m'\u001b[39;49m\u001b[33;43msignup_date_parsed\u001b[39;49m\u001b[33;43m'\u001b[39;49m\u001b[43m]\u001b[49m.dt.to_period(\u001b[33m'\u001b[39m\u001b[33mM\u001b[39m\u001b[33m'\u001b[39m)\n\u001b[32m      6\u001b[39m \u001b[38;5;66;03m#Get the most recent month\u001b[39;00m\n\u001b[32m      8\u001b[39m last_month = df[\u001b[33m'\u001b[39m\u001b[33msignup_year_month\u001b[39m\u001b[33m'\u001b[39m].max()\n",
      "\u001b[36mFile \u001b[39m\u001b[32m~\\AppData\\Local\\Programs\\Python\\Python313\\Lib\\site-packages\\pandas\\core\\frame.py:4107\u001b[39m, in \u001b[36mDataFrame.__getitem__\u001b[39m\u001b[34m(self, key)\u001b[39m\n\u001b[32m   4105\u001b[39m \u001b[38;5;28;01mif\u001b[39;00m \u001b[38;5;28mself\u001b[39m.columns.nlevels > \u001b[32m1\u001b[39m:\n\u001b[32m   4106\u001b[39m     \u001b[38;5;28;01mreturn\u001b[39;00m \u001b[38;5;28mself\u001b[39m._getitem_multilevel(key)\n\u001b[32m-> \u001b[39m\u001b[32m4107\u001b[39m indexer = \u001b[38;5;28;43mself\u001b[39;49m\u001b[43m.\u001b[49m\u001b[43mcolumns\u001b[49m\u001b[43m.\u001b[49m\u001b[43mget_loc\u001b[49m\u001b[43m(\u001b[49m\u001b[43mkey\u001b[49m\u001b[43m)\u001b[49m\n\u001b[32m   4108\u001b[39m \u001b[38;5;28;01mif\u001b[39;00m is_integer(indexer):\n\u001b[32m   4109\u001b[39m     indexer = [indexer]\n",
      "\u001b[36mFile \u001b[39m\u001b[32m~\\AppData\\Local\\Programs\\Python\\Python313\\Lib\\site-packages\\pandas\\core\\indexes\\base.py:3819\u001b[39m, in \u001b[36mIndex.get_loc\u001b[39m\u001b[34m(self, key)\u001b[39m\n\u001b[32m   3814\u001b[39m     \u001b[38;5;28;01mif\u001b[39;00m \u001b[38;5;28misinstance\u001b[39m(casted_key, \u001b[38;5;28mslice\u001b[39m) \u001b[38;5;129;01mor\u001b[39;00m (\n\u001b[32m   3815\u001b[39m         \u001b[38;5;28misinstance\u001b[39m(casted_key, abc.Iterable)\n\u001b[32m   3816\u001b[39m         \u001b[38;5;129;01mand\u001b[39;00m \u001b[38;5;28many\u001b[39m(\u001b[38;5;28misinstance\u001b[39m(x, \u001b[38;5;28mslice\u001b[39m) \u001b[38;5;28;01mfor\u001b[39;00m x \u001b[38;5;129;01min\u001b[39;00m casted_key)\n\u001b[32m   3817\u001b[39m     ):\n\u001b[32m   3818\u001b[39m         \u001b[38;5;28;01mraise\u001b[39;00m InvalidIndexError(key)\n\u001b[32m-> \u001b[39m\u001b[32m3819\u001b[39m     \u001b[38;5;28;01mraise\u001b[39;00m \u001b[38;5;167;01mKeyError\u001b[39;00m(key) \u001b[38;5;28;01mfrom\u001b[39;00m\u001b[38;5;250m \u001b[39m\u001b[34;01merr\u001b[39;00m\n\u001b[32m   3820\u001b[39m \u001b[38;5;28;01mexcept\u001b[39;00m \u001b[38;5;167;01mTypeError\u001b[39;00m:\n\u001b[32m   3821\u001b[39m     \u001b[38;5;66;03m# If we have a listlike key, _check_indexing_error will raise\u001b[39;00m\n\u001b[32m   3822\u001b[39m     \u001b[38;5;66;03m#  InvalidIndexError. Otherwise we fall through and re-raise\u001b[39;00m\n\u001b[32m   3823\u001b[39m     \u001b[38;5;66;03m#  the TypeError.\u001b[39;00m\n\u001b[32m   3824\u001b[39m     \u001b[38;5;28mself\u001b[39m._check_indexing_error(key)\n",
      "\u001b[31mKeyError\u001b[39m: 'signup_date_parsed'"
     ]
    }
   ],
   "source": [
    "#Finding answers for business questions\n",
    "\n",
    "# which acquisition source brought in most users last month\n",
    "\n",
    "df['signup_year_month'] = df['signup_date_parsed'].dt.to_period('M')\n",
    "#Get the most recent month\n",
    "\n",
    "last_month = df['signup_year_month'].max()\n",
    "\n",
    "#filter rows for that last month\n",
    "\n",
    "last_month_data = df[df['signup_year_month'] == last_month]\n",
    "\n",
    "source_counts = last_month_data['source'].value_counts()\n",
    "\n",
    "print(f\"Sign up source distribution in {last_month}:\")\n",
    "\n",
    "print(source_counts)\n",
    "\n",
    "\n",
    "# UNABLE TO RESOLVE THIS ISSUE\n"
   ]
  },
  {
   "cell_type": "code",
   "execution_count": 60,
   "id": "086fff61-f2c5-433d-93f6-d18fd771be47",
   "metadata": {},
   "outputs": [
    {
     "name": "stdout",
     "output_type": "stream",
     "text": [
      "    region  missing_count\n",
      "0  Central              9\n",
      "1     East             16\n",
      "2    North             21\n",
      "3    South             13\n",
      "4     West             16\n"
     ]
    }
   ],
   "source": [
    "#Region which shows incomplete or missing values\n",
    "\n",
    "missing_data = df[df.isnull().any(axis=1)]\n",
    "missing_counts = missing_data.groupby('region').size().reset_index(name = 'missing_count')\n",
    "print(missing_counts)"
   ]
  },
  {
   "cell_type": "code",
   "execution_count": 65,
   "id": "f2a1ac2f-40b0-43a5-825e-75e6d7d741c4",
   "metadata": {},
   "outputs": [
    {
     "name": "stdout",
     "output_type": "stream",
     "text": [
      "  age_group  marketing_opt_in_numeric\n",
      "0       <18                       NaN\n",
      "1     18-30                  0.444444\n",
      "2     31-45                  0.461538\n",
      "3     46-60                  0.489362\n",
      "4       60+                  0.428571\n"
     ]
    },
    {
     "name": "stderr",
     "output_type": "stream",
     "text": [
      "C:\\Users\\kpk laptops\\AppData\\Local\\Temp\\ipykernel_18516\\510592009.py:14: SettingWithCopyWarning: \n",
      "A value is trying to be set on a copy of a slice from a DataFrame.\n",
      "Try using .loc[row_indexer,col_indexer] = value instead\n",
      "\n",
      "See the caveats in the documentation: https://pandas.pydata.org/pandas-docs/stable/user_guide/indexing.html#returning-a-view-versus-a-copy\n",
      "  df['age_group'] = pd.cut(df['age'], bins=bins, labels=labels, right=False)\n",
      "C:\\Users\\kpk laptops\\AppData\\Local\\Temp\\ipykernel_18516\\510592009.py:17: SettingWithCopyWarning: \n",
      "A value is trying to be set on a copy of a slice from a DataFrame.\n",
      "Try using .loc[row_indexer,col_indexer] = value instead\n",
      "\n",
      "See the caveats in the documentation: https://pandas.pydata.org/pandas-docs/stable/user_guide/indexing.html#returning-a-view-versus-a-copy\n",
      "  df['marketing_opt_in_numeric'] = df['marketing_opt_in'].map({'Yes': 1, 'No': 0})\n",
      "C:\\Users\\kpk laptops\\AppData\\Local\\Temp\\ipykernel_18516\\510592009.py:23: FutureWarning: The default of observed=False is deprecated and will be changed to True in a future version of pandas. Pass observed=False to retain current behavior or observed=True to adopt the future default and silence this warning.\n",
      "  opt_in_rates = df.groupby('age_group')['marketing_opt_in_numeric'].mean().reset_index()\n"
     ]
    }
   ],
   "source": [
    "#Are old users more or less likely to opt in for marketing\n",
    "\n",
    "# Convert 'age' to numeric, coercing errors to NaN\n",
    "df['age'] = pd.to_numeric(df['age'], errors='coerce')\n",
    "\n",
    "# Drop rows with invalid/missing age\n",
    "df = df.dropna(subset=['age'])\n",
    "\n",
    "# Define age bins and labels\n",
    "bins = [0, 18, 30, 45, 60, 100]\n",
    "labels = ['<18', '18-30', '31-45', '46-60', '60+']\n",
    "\n",
    "# Create age groups\n",
    "df['age_group'] = pd.cut(df['age'], bins=bins, labels=labels, right=False)\n",
    "\n",
    "# Map marketing opt-in to numeric 0/1 (adjust keys to your data)\n",
    "df['marketing_opt_in_numeric'] = df['marketing_opt_in'].map({'Yes': 1, 'No': 0})\n",
    "\n",
    "# Drop rows with missing marketing opt-in info after mapping\n",
    "df = df.dropna(subset=['marketing_opt_in_numeric'])\n",
    "\n",
    "# Calculate average opt-in rate per age group\n",
    "opt_in_rates = df.groupby('age_group')['marketing_opt_in_numeric'].mean().reset_index()\n",
    "\n",
    "print(opt_in_rates)\n",
    "\n"
   ]
  },
  {
   "cell_type": "code",
   "execution_count": 69,
   "id": "d5b42589-91a1-4983-a008-edf01ce589a1",
   "metadata": {},
   "outputs": [
    {
     "name": "stdout",
     "output_type": "stream",
     "text": [
      "Most common plan selected: most_common_plan_selected\n",
      "\n",
      "Most commonly selected plan by age group:\n",
      "  age_group plan_selected\n",
      "0       <18          None\n",
      "1     18-30           Pro\n",
      "2     31-45       Premium\n",
      "3     46-60       Premium\n",
      "4       60+         Basic\n"
     ]
    },
    {
     "name": "stderr",
     "output_type": "stream",
     "text": [
      "C:\\Users\\kpk laptops\\AppData\\Local\\Temp\\ipykernel_18516\\1540174523.py:6: FutureWarning: The default of observed=False is deprecated and will be changed to True in a future version of pandas. Pass observed=False to retain current behavior or observed=True to adopt the future default and silence this warning.\n",
      "  most_common_plan_by_age_group = df.groupby('age_group')['plan_selected'] \\\n"
     ]
    }
   ],
   "source": [
    "# Which plan is selected most commonly and by which age group\n",
    "\n",
    "most_common_plan_selected = df['plan_selected'].mode()[0]\n",
    "print(f\"Most common plan selected: {'most_common_plan_selected'}\")\n",
    "#Find the most commonly selected plan per age group\n",
    "most_common_plan_by_age_group = df.groupby('age_group')['plan_selected'] \\\n",
    "    .agg(lambda x: x.mode().iat[0] if not x.mode().empty else None) \\\n",
    "    .reset_index()\n",
    "\n",
    "print(\"\\nMost commonly selected plan by age group:\")\n",
    "print(most_common_plan_by_age_group)\n"
   ]
  }
 ],
 "metadata": {
  "kernelspec": {
   "display_name": "Python 3 (ipykernel)",
   "language": "python",
   "name": "python3"
  },
  "language_info": {
   "codemirror_mode": {
    "name": "ipython",
    "version": 3
   },
   "file_extension": ".py",
   "mimetype": "text/x-python",
   "name": "python",
   "nbconvert_exporter": "python",
   "pygments_lexer": "ipython3",
   "version": "3.13.3"
  }
 },
 "nbformat": 4,
 "nbformat_minor": 5
}
