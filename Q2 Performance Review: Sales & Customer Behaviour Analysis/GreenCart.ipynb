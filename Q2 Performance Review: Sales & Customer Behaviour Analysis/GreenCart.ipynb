{
 "cells": [
  {
   "cell_type": "code",
   "execution_count": 23,
   "id": "0015bf3d-ab2f-4b8d-b3a0-82e47a24daef",
   "metadata": {},
   "outputs": [
    {
     "name": "stdout",
     "output_type": "stream",
     "text": [
      "  order_id customer_id product_id quantity  unit_price order_date  \\\n",
      "0  O966977      C00397      P0022        3       39.25   06-07-25   \n",
      "1  O696648      C00236      P0023        5       18.92   06-07-25   \n",
      "2  O202644      C00492      P0011        1       29.68   06-07-25   \n",
      "3  O501803      C00031      P0003        1       32.76   06-07-25   \n",
      "4  O322242      C00495      P0016        1       47.62   06-07-25   \n",
      "\n",
      "  delivery_status payment_method   region  discount_applied  \n",
      "0       Delivered         PayPal  Central              0.00  \n",
      "1         DELAYED    credit card    North              0.00  \n",
      "2       delivered  Bank Transfer    North              0.15  \n",
      "3      Cancelled     Credit Card  Central              0.20  \n",
      "4         DELAYED    Credit Card     West              0.20  \n",
      "  product_id             product_name       category launch_date  base_price  \\\n",
      "0      P0001       Storage Product 39        Storage    11-03-25       15.88   \n",
      "1      P0002      Cleaning Product 82       Cleaning    18-08-24       34.23   \n",
      "2      P0003      Cleaning Product 85       Cleaning    15-07-24        7.92   \n",
      "3      P0004       Kitchen Product 82        Kitchen    19-04-25        9.13   \n",
      "4      P0005  Personal Care Product 1  Personal Care    20-10-24       31.10   \n",
      "\n",
      "  supplier_code  \n",
      "0          S339  \n",
      "1          S974  \n",
      "2          S745  \n",
      "3          S589  \n",
      "4          S559  \n",
      "  customer_id                    email signup_date  gender   region  \\\n",
      "0      C00001   shaneramirez@gmail.com    26-04-25    Male  Central   \n",
      "1      C00002    jpeterson@bernard.com    11-08-24  Female  Central   \n",
      "2      C00003  howardmaurice@yahoo.com    15-05-25    male  Central   \n",
      "3      C00004      yherrera@arnold.org    14-06-25  FEMALE  Central   \n",
      "4      C00005  janetwilliams@gmail.com    02-05-25    Male     West   \n",
      "\n",
      "  loyalty_tier  \n",
      "0       Silver  \n",
      "1        gold   \n",
      "2        gold   \n",
      "3         GOLD  \n",
      "4       bronze  \n"
     ]
    }
   ],
   "source": [
    "# GREEN CART LTD Sales and Customer Behaviour Insights \n",
    "\n",
    "#Import Libraries\n",
    "\n",
    "import pandas as pd\n",
    "import numpy as np\n",
    "from pathlib import Path\n",
    "import matplotlib.pyplot as plt\n",
    "import seaborn as sns\n",
    "from sklearn.preprocessing import MinMaxScaler\n",
    "\n",
    "\n",
    "\n",
    "#construct filepath\n",
    "\n",
    "filepath = Path(\"D:/Uptrail Internship/Second Project\")\n",
    "sales_file = filepath / \"sales_data.csv\"\n",
    "product_file = filepath / \"product_info.csv\"\n",
    "customer_file = filepath / \"customer_info.csv\"\n",
    "\n",
    "#Load the dataset\n",
    "sales_df = pd.read_csv(sales_file)\n",
    "product_df = pd.read_csv(product_file)\n",
    "customer_df = pd.read_csv(customer_file)\n",
    "\n",
    "\n",
    "#Preview the data\n",
    "\n",
    "\n",
    "print(sales_df.head())\n",
    "print(product_df.head())\n",
    "print(customer_df.head())"
   ]
  },
  {
   "cell_type": "code",
   "execution_count": 2,
   "id": "07e174bf-2b13-48a5-88a3-19ee0209dafd",
   "metadata": {},
   "outputs": [
    {
     "name": "stdout",
     "output_type": "stream",
     "text": [
      "<class 'pandas.core.frame.DataFrame'>\n",
      "RangeIndex: 3000 entries, 0 to 2999\n",
      "Data columns (total 10 columns):\n",
      " #   Column            Non-Null Count  Dtype  \n",
      "---  ------            --------------  -----  \n",
      " 0   order_id          2999 non-null   object \n",
      " 1   customer_id       2998 non-null   object \n",
      " 2   product_id        2995 non-null   object \n",
      " 3   quantity          2997 non-null   object \n",
      " 4   unit_price        2999 non-null   float64\n",
      " 5   order_date        2997 non-null   object \n",
      " 6   delivery_status   2997 non-null   object \n",
      " 7   payment_method    2997 non-null   object \n",
      " 8   region            3000 non-null   object \n",
      " 9   discount_applied  2483 non-null   float64\n",
      "dtypes: float64(2), object(8)\n",
      "memory usage: 234.5+ KB\n"
     ]
    }
   ],
   "source": [
    "#CLEAN THE DATA\n",
    "\n",
    "sales_df.info()"
   ]
  },
  {
   "cell_type": "code",
   "execution_count": 3,
   "id": "e4917e6b-1d1b-4af7-8dbd-577b2fc590a6",
   "metadata": {},
   "outputs": [
    {
     "data": {
      "text/plain": [
       "order_id              1\n",
       "customer_id           2\n",
       "product_id            5\n",
       "quantity              3\n",
       "unit_price            1\n",
       "order_date            3\n",
       "delivery_status       3\n",
       "payment_method        3\n",
       "region                0\n",
       "discount_applied    517\n",
       "dtype: int64"
      ]
     },
     "execution_count": 3,
     "metadata": {},
     "output_type": "execute_result"
    }
   ],
   "source": [
    "sales_df.isnull().sum()"
   ]
  },
  {
   "cell_type": "code",
   "execution_count": 105,
   "id": "4caa6365-5921-4161-936b-5aa864537053",
   "metadata": {},
   "outputs": [
    {
     "data": {
      "text/plain": [
       "np.int64(0)"
      ]
     },
     "execution_count": 105,
     "metadata": {},
     "output_type": "execute_result"
    }
   ],
   "source": [
    "sales_df.duplicated().sum()\n",
    "customer_df.duplicated().sum()\n",
    "product_df.duplicated().sum()\n",
    "\n"
   ]
  },
  {
   "cell_type": "code",
   "execution_count": 5,
   "id": "323b5c96-e886-4923-8703-0919cd1680c1",
   "metadata": {},
   "outputs": [
    {
     "name": "stdout",
     "output_type": "stream",
     "text": [
      "\n",
      "--- delivery_status ---\n",
      "delivery_status\n",
      "Delivered      637\n",
      "delivered      594\n",
      " DELAYED       591\n",
      " Cancelled     591\n",
      "Delayed        582\n",
      "NaN              3\n",
      "delrd            1\n",
      "delyd            1\n",
      "Name: count, dtype: int64\n",
      "\n",
      "--- payment_method ---\n",
      "payment_method\n",
      "Bank Transfer    780\n",
      "PayPal           763\n",
      "Credit Card      735\n",
      "credit card      718\n",
      "NaN                3\n",
      "bank transfr       1\n",
      "Name: count, dtype: int64\n",
      "\n",
      "--- region ---\n",
      "region\n",
      "North      605\n",
      "Central    603\n",
      "East       602\n",
      "South      596\n",
      "West       593\n",
      "nrth         1\n",
      "Name: count, dtype: int64\n"
     ]
    }
   ],
   "source": [
    "#checking for inconcistent values\n",
    "#sales_df['delivery_status'].value_counts(dropna=False)\n",
    "#sales_df['payment_method'].value_counts(dropna=False)\n",
    "#sales_df['region'].value_counts(dropna=False)\n",
    "\n",
    "for col in ['delivery_status', 'payment_method', 'region']:\n",
    "    print(f\"\\n--- {col} ---\")\n",
    "    print(sales_df[col].value_counts(dropna=False))"
   ]
  },
  {
   "cell_type": "code",
   "execution_count": 6,
   "id": "b37858f8-efb8-4731-b44c-44dc779b6052",
   "metadata": {},
   "outputs": [
    {
     "name": "stdout",
     "output_type": "stream",
     "text": [
      "\n",
      "--- delivery_status ---\n",
      "delivery_status\n",
      "Delivered    1231\n",
      "Delayed      1173\n",
      "Cancelled     591\n",
      "NaN             3\n",
      "Delrd           1\n",
      "Delyd           1\n",
      "Name: count, dtype: int64\n",
      "\n",
      "--- payment_method ---\n",
      "payment_method\n",
      "Credit Card      1453\n",
      "Bank Transfer     780\n",
      "Paypal            763\n",
      "NaN                 3\n",
      "Bank Transfr        1\n",
      "Name: count, dtype: int64\n",
      "\n",
      "--- region ---\n",
      "region\n",
      "North      605\n",
      "Central    603\n",
      "East       602\n",
      "South      596\n",
      "West       593\n",
      "Nrth         1\n",
      "Name: count, dtype: int64\n"
     ]
    }
   ],
   "source": [
    "#CLEAN THE DATA\n",
    "sales_df['delivery_status'] = sales_df['delivery_status'].str.strip().str.title()\n",
    "sales_df['payment_method'] = sales_df['payment_method'].str.strip().str.title()\n",
    "sales_df['region'] = sales_df['region'].str.strip().str.title()\n",
    "for col in ['delivery_status', 'payment_method', 'region']:\n",
    "    print(f\"\\n--- {col} ---\")\n",
    "    print(sales_df[col].value_counts(dropna=False))"
   ]
  },
  {
   "cell_type": "code",
   "execution_count": 52,
   "id": "668fae59-a73a-453e-8eca-cbd56237acb6",
   "metadata": {},
   "outputs": [
    {
     "name": "stdout",
     "output_type": "stream",
     "text": [
      "['Central' 'North' 'West' 'East' 'South']\n",
      "['Central' 'North' 'West' 'East' 'South']\n"
     ]
    }
   ],
   "source": [
    "#Fix known typos/inconsistencies\n",
    "delivery_map = {\n",
    "    'Delrd': 'Delivered',\n",
    "    'Delyd': 'Delayed'\n",
    "}\n",
    "sales_df['delivery_status'] = sales_df['delivery_status'].replace(delivery_map)\n",
    "\n",
    "payment_map = {\n",
    "    'Bank Transfr': 'Bank Transfer'\n",
    "}\n",
    "sales_df['payment_method'] = sales_df['payment_method'].replace(payment_map)\n",
    "\n",
    "sales_df['region'] = sales_df['region'].astype(str).str.strip().str.lower()\n",
    "\n",
    "region_map = {\n",
    "    'Nrth': 'North',\n",
    "    'nrth': 'North',\n",
    "    'north': 'North',\n",
    "    'west': 'West',\n",
    "    'east': 'East',\n",
    "    'south': 'South',\n",
    "    'central': 'Central',\n",
    "    \n",
    "}\n",
    "sales_df['region'] = sales_df['region'].replace(region_map)\n",
    "\n",
    "customer_df['loyalty_tier'] = customer_df['loyalty_tier'].astype(str).str.strip().str.lower()\n",
    "\n",
    "\n",
    "loyalty_map = {\n",
    "    'gold': 'Gold',\n",
    "    'GOLD': 'Gold',\n",
    "    'gld' : 'Gold',\n",
    "    'Gld' : 'Gold',\n",
    "    'bronze': 'Bronze',\n",
    "    'brnze': 'Bronze',\n",
    "    'Brnze': 'Bronze',\n",
    "    'silver': 'Silver',\n",
    "    'sllver' : 'Silver',\n",
    "    'Sllver' : 'Silver',\n",
    "    'nan': 'Unknown'\n",
    "}\n",
    "customer_df['loyalty_tier'] = customer_df['loyalty_tier'].replace(loyalty_map)\n",
    "\n",
    "\n",
    "print(sales_df['region'].unique())\n",
    "print(sales_df['region'].unique())"
   ]
  },
  {
   "cell_type": "code",
   "execution_count": 13,
   "id": "b04bc078-c6ee-4c90-970b-a56b04805f79",
   "metadata": {},
   "outputs": [
    {
     "name": "stdout",
     "output_type": "stream",
     "text": [
      "\n",
      "--- delivery_status ---\n",
      "delivery_status\n",
      "Delivered    1232\n",
      "Delayed      1174\n",
      "Cancelled     591\n",
      "NaN             3\n",
      "Name: count, dtype: int64\n",
      "\n",
      "--- payment_method ---\n",
      "payment_method\n",
      "Credit Card      1453\n",
      "Bank Transfer     781\n",
      "Paypal            763\n",
      "NaN                 3\n",
      "Name: count, dtype: int64\n",
      "\n",
      "--- region ---\n",
      "region\n",
      "North      606\n",
      "Central    603\n",
      "East       602\n",
      "South      596\n",
      "West       593\n",
      "Name: count, dtype: int64\n"
     ]
    }
   ],
   "source": [
    "for col in ['delivery_status', 'payment_method', 'region']:\n",
    "    print(f\"\\n--- {col} ---\")\n",
    "    print(sales_df[col].value_counts(dropna=False))"
   ]
  },
  {
   "cell_type": "code",
   "execution_count": 14,
   "id": "fad89201-2a99-4c46-86df-a8404ec90aee",
   "metadata": {},
   "outputs": [
    {
     "name": "stdout",
     "output_type": "stream",
     "text": [
      "datetime64[ns]\n"
     ]
    }
   ],
   "source": [
    "# CONVERT DATE COLUMN TO DATETIME\n",
    "sales_df['order_date'] = pd.to_datetime(sales_df['order_date'], dayfirst=True, errors='coerce')\n",
    "print(sales_df['order_date'].dtype)"
   ]
  },
  {
   "cell_type": "code",
   "execution_count": 15,
   "id": "11e8b9a5-a634-4ecc-9ae5-ed8295c2c6ae",
   "metadata": {},
   "outputs": [
    {
     "data": {
      "text/plain": [
       "np.int64(3)"
      ]
     },
     "execution_count": 15,
     "metadata": {},
     "output_type": "execute_result"
    }
   ],
   "source": [
    "sales_df['delivery_status'].isnull().sum()"
   ]
  },
  {
   "cell_type": "code",
   "execution_count": 47,
   "id": "1bf43740-415c-4c6d-9682-a3ebbb205688",
   "metadata": {},
   "outputs": [
    {
     "name": "stdout",
     "output_type": "stream",
     "text": [
      "[0.   0.15 0.2  0.1  0.05]\n"
     ]
    }
   ],
   "source": [
    "sales_df['region'].isnull().sum()\n",
    "sales_df['delivery_status'] = sales_df['delivery_status'].fillna('Unknown')\n",
    "sales_df['payment_method'] = sales_df['payment_method'].fillna('Unknown')\n",
    "sales_df['region'] = sales_df['region'].fillna('Unknown')\n",
    "sales_df['discount_applied'] = sales_df['discount_applied'].fillna(0.0)\n",
    "sales_df = sales_df.drop_duplicates(subset='order_id')\n",
    "print(sales_df['discount_applied'].unique())"
   ]
  },
  {
   "cell_type": "code",
   "execution_count": 25,
   "id": "db966867-195d-496c-aa21-cd9b2594bbf8",
   "metadata": {},
   "outputs": [],
   "source": [
    "#Validate numeric columns\n",
    "sales_df['quantity'] = pd.to_numeric(sales_df['quantity'], errors='coerce')\n",
    "sales_df['unit_price'] = pd.to_numeric(sales_df['unit_price'], errors='coerce')\n",
    "sales_df['discount_applied'] = pd.to_numeric(sales_df['discount_applied'], errors='coerce')\n",
    "\n",
    "# Drop rows where conversion failed\n",
    "sales_df.dropna(subset=['quantity', 'unit_price', 'discount_applied'], inplace=True)\n",
    "\n",
    "sales_df = sales_df[\n",
    "    (sales_df['quantity'] >= 0) &\n",
    "    (sales_df['unit_price'] >= 0) &\n",
    "    (sales_df['discount_applied'] >= 0)\n",
    "]\n",
    "\n"
   ]
  },
  {
   "cell_type": "code",
   "execution_count": 35,
   "id": "e6d455e7-1121-48f3-b384-2d5350769dcd",
   "metadata": {},
   "outputs": [
    {
     "name": "stdout",
     "output_type": "stream",
     "text": [
      "datetime64[ns]\n"
     ]
    }
   ],
   "source": [
    "#CLEAN PRODUCT\n",
    "# Standardize text fields\n",
    "product_df['category'] = product_df['category'].str.strip().str.title()\n",
    "\n",
    "# Convert date column\n",
    "product_df['launch_date'] = product_df['launch_date'].replace('', pd.NA)\n",
    "product_df['launch_date'] = pd.to_datetime(product_df['launch_date'], dayfirst=True, errors='coerce')\n",
    "\n",
    "\n",
    "# Handle missing values\n",
    "product_df['category'] = product_df['category'].fillna(\"Other\")\n",
    "\n",
    "# Remove duplicates\n",
    "product_df = product_df.drop_duplicates(subset='product_id')\n",
    "print(product_df['launch_date'].dtype)"
   ]
  },
  {
   "cell_type": "code",
   "execution_count": 34,
   "id": "af3e047b-4063-46c0-b9a8-9251565f44bc",
   "metadata": {},
   "outputs": [
    {
     "name": "stdout",
     "output_type": "stream",
     "text": [
      "datetime64[ns]\n"
     ]
    }
   ],
   "source": [
    "#CLEAN CUSTOMER\n",
    "\n",
    "# Standardize text fields\n",
    "customer_df['loyalty_tier'] = customer_df['loyalty_tier'].str.strip().str.title()\n",
    "customer_df['region'] = customer_df['region'].str.strip().str.title()\n",
    "\n",
    "# Convert date column\n",
    "customer_df['signup_date'] = pd.to_datetime(customer_df['signup_date'], dayfirst=True, errors='coerce')\n",
    "\n",
    "# Handle missing values\n",
    "customer_df['loyalty_tier'] = customer_df['loyalty_tier'].fillna(\"Unknown\")\n",
    "\n",
    "# Remove duplicates\n",
    "customer_df = customer_df.drop_duplicates(subset='customer_id')\n",
    "print(customer_df['signup_date'].dtype)"
   ]
  },
  {
   "cell_type": "code",
   "execution_count": 31,
   "id": "ba19cde8-320e-4d03-ad3d-344db5e2bd1c",
   "metadata": {},
   "outputs": [
    {
     "name": "stdout",
     "output_type": "stream",
     "text": [
      "<class 'pandas.core.frame.DataFrame'>\n",
      "RangeIndex: 2477 entries, 0 to 2476\n",
      "Data columns (total 20 columns):\n",
      " #   Column            Non-Null Count  Dtype         \n",
      "---  ------            --------------  -----         \n",
      " 0   order_id          2476 non-null   object        \n",
      " 1   customer_id       2476 non-null   object        \n",
      " 2   product_id        2472 non-null   object        \n",
      " 3   quantity          2477 non-null   float64       \n",
      " 4   unit_price        2477 non-null   float64       \n",
      " 5   order_date        2475 non-null   object        \n",
      " 6   delivery_status   2477 non-null   object        \n",
      " 7   payment_method    2477 non-null   object        \n",
      " 8   region_x          2477 non-null   object        \n",
      " 9   discount_applied  2477 non-null   float64       \n",
      " 10  product_name      2472 non-null   object        \n",
      " 11  category          2472 non-null   object        \n",
      " 12  launch_date       2472 non-null   datetime64[ns]\n",
      " 13  base_price        2472 non-null   float64       \n",
      " 14  supplier_code     2472 non-null   object        \n",
      " 15  email             2430 non-null   object        \n",
      " 16  signup_date       2436 non-null   datetime64[ns]\n",
      " 17  gender            2444 non-null   object        \n",
      " 18  region_y          2446 non-null   object        \n",
      " 19  loyalty_tier      2458 non-null   object        \n",
      "dtypes: datetime64[ns](2), float64(4), object(14)\n",
      "memory usage: 387.2+ KB\n",
      "None\n",
      "  order_id customer_id product_id  quantity  unit_price order_date  \\\n",
      "0  O966977      C00397      P0022       3.0       39.25   06-07-25   \n",
      "1  O696648      C00236      P0023       5.0       18.92   06-07-25   \n",
      "2  O202644      C00492      P0011       1.0       29.68   06-07-25   \n",
      "3  O501803      C00031      P0003       1.0       32.76   06-07-25   \n",
      "4  O322242      C00495      P0016       1.0       47.62   06-07-25   \n",
      "\n",
      "  delivery_status payment_method region_x  discount_applied  \\\n",
      "0       Delivered         PayPal  Central              0.00   \n",
      "1         DELAYED    credit card    North              0.00   \n",
      "2       delivered  Bank Transfer    North              0.15   \n",
      "3      Cancelled     Credit Card  Central              0.20   \n",
      "4         DELAYED    Credit Card     West              0.20   \n",
      "\n",
      "          product_name  category launch_date  base_price supplier_code  \\\n",
      "0  Cleaning Product 86  Cleaning  2024-10-04       19.77          S924   \n",
      "1  Outdoors Product 32  Outdoors  2025-01-18       36.04          S907   \n",
      "2   Kitchen Product 53   Kitchen  2025-03-25       11.08          S645   \n",
      "3  Cleaning Product 85  Cleaning  2024-07-15        7.92          S745   \n",
      "4  Cleaning Product 53  Cleaning  2025-02-20       26.71          S715   \n",
      "\n",
      "                              email signup_date  gender region_y loyalty_tier  \n",
      "0  jacquelinemartin@mills-logan.com  2024-09-08  Female    North       Silver  \n",
      "1            georgeweber@morgan.com  2024-08-06   Other    North         Gold  \n",
      "2           lcook@walters-smith.com  2024-09-25    Male  Central         Gold  \n",
      "3                  smoore@gmail.com  2024-07-28   femle  Central         Gold  \n",
      "4      mcclainkatherine@hotmail.com  2024-09-18    male  Central         Gold  \n"
     ]
    }
   ],
   "source": [
    "#MERGE THE DATA\n",
    "# Merge sales with product\n",
    "merged_df = pd.merge(sales_df, product_df, on='product_id', how='left')\n",
    "\n",
    "# Merge with customer data\n",
    "merged_df = pd.merge(merged_df, customer_df, on='customer_id', how='left')\n",
    "\n",
    "# Check results\n",
    "print(merged_df.info())\n",
    "print(merged_df.head())\n"
   ]
  },
  {
   "cell_type": "code",
   "execution_count": 48,
   "id": "d5377433-27c5-496a-9d7f-00d6fd142c83",
   "metadata": {},
   "outputs": [
    {
     "name": "stdout",
     "output_type": "stream",
     "text": [
      "<class 'pandas.core.frame.DataFrame'>\n",
      "Index: 2470 entries, 0 to 2476\n",
      "Data columns (total 26 columns):\n",
      " #   Column            Non-Null Count  Dtype         \n",
      "---  ------            --------------  -----         \n",
      " 0   order_id          2469 non-null   object        \n",
      " 1   customer_id       2469 non-null   object        \n",
      " 2   product_id        2470 non-null   object        \n",
      " 3   quantity          2470 non-null   float64       \n",
      " 4   unit_price        2470 non-null   float64       \n",
      " 5   order_date        2470 non-null   datetime64[ns]\n",
      " 6   delivery_status   2470 non-null   object        \n",
      " 7   payment_method    2470 non-null   object        \n",
      " 8   region            2470 non-null   object        \n",
      " 9   discount_applied  2470 non-null   float64       \n",
      " 10  product_name      2470 non-null   object        \n",
      " 11  category          2470 non-null   object        \n",
      " 12  launch_date       2470 non-null   datetime64[ns]\n",
      " 13  base_price        2470 non-null   float64       \n",
      " 14  supplier_code     2470 non-null   object        \n",
      " 15  email             2423 non-null   object        \n",
      " 16  signup_date       2429 non-null   datetime64[ns]\n",
      " 17  gender            2437 non-null   object        \n",
      " 18  loyalty_tier      2451 non-null   object        \n",
      " 19  revenue           2470 non-null   float64       \n",
      " 20  order_week        2470 non-null   UInt32        \n",
      " 21  price_band        2470 non-null   category      \n",
      " 22  days_to_order     2470 non-null   int64         \n",
      " 23  email_domain      2423 non-null   object        \n",
      " 24  is_late           2470 non-null   bool          \n",
      " 25  signup_month      2429 non-null   float64       \n",
      "dtypes: UInt32(1), bool(1), category(1), datetime64[ns](3), float64(6), int64(1), object(13)\n",
      "memory usage: 480.1+ KB\n",
      "None\n",
      "Index(['order_id', 'customer_id', 'product_id', 'quantity', 'unit_price',\n",
      "       'order_date', 'delivery_status', 'payment_method', 'region',\n",
      "       'discount_applied', 'product_name', 'category', 'launch_date',\n",
      "       'base_price', 'supplier_code', 'email', 'signup_date', 'gender',\n",
      "       'loyalty_tier', 'revenue', 'order_week', 'price_band', 'days_to_order',\n",
      "       'email_domain', 'is_late', 'signup_month'],\n",
      "      dtype='object')\n"
     ]
    }
   ],
   "source": [
    "#FEATURE ENGINEERING\n",
    "\n",
    "#Calculate revenue\n",
    "merged_df['quantity'] = pd.to_numeric(merged_df['quantity'], errors='coerce')\n",
    "merged_df['unit_price'] = pd.to_numeric(merged_df['unit_price'], errors='coerce')\n",
    "merged_df['discount_applied'] = pd.to_numeric(merged_df['discount_applied'], errors='coerce')\n",
    "merged_df['order_date'] = pd.to_datetime(merged_df['order_date'], errors='coerce')\n",
    "merged_df['launch_date'] = pd.to_datetime(merged_df['launch_date'], errors='coerce')\n",
    "\n",
    "# Revenue calculation\n",
    "merged_df['revenue'] = merged_df['quantity'] * merged_df['unit_price'] * (1 - merged_df['discount_applied'])\n",
    "\n",
    "# Extract ISO week\n",
    "merged_df['order_week'] = merged_df['order_date'].dt.isocalendar().week\n",
    "\n",
    "# Price band\n",
    "merged_df['price_band'] = pd.cut(merged_df['unit_price'],\n",
    "                                 bins=[0, 15, 30, float('inf')],\n",
    "                                 labels=['Low', 'Medium', 'High'])\n",
    "\n",
    "# Days between launch and order\n",
    "merged_df['days_to_order'] = (merged_df['order_date'] - merged_df['launch_date']).dt.days\n",
    "\n",
    "# Extract email domain\n",
    "merged_df['email_domain'] = merged_df['email'].str.split('@').str[-1]\n",
    "\n",
    "# Late delivery flag\n",
    "merged_df['is_late'] = merged_df['delivery_status'] == 'Delayed'\n",
    "print(merged_df.info())\n",
    "print(merged_df.columns)"
   ]
  },
  {
   "cell_type": "code",
   "execution_count": 57,
   "id": "fadf7692-53ca-4276-8ed4-d612c6e965b4",
   "metadata": {},
   "outputs": [
    {
     "name": "stdout",
     "output_type": "stream",
     "text": [
      "['order_id', 'customer_id', 'product_id', 'quantity', 'unit_price', 'order_date', 'delivery_status', 'payment_method', 'region', 'discount_applied', 'product_name', 'category', 'launch_date', 'base_price', 'supplier_code', 'email', 'signup_date', 'gender', 'loyalty_tier', 'revenue', 'order_week', 'price_band', 'days_to_order', 'email_domain', 'is_late', 'signup_month']\n",
      "   order_week   region     revenue\n",
      "0          23  Central  37199.7815\n",
      "1          23     East  39026.6280\n",
      "2          23    North  37310.8275\n",
      "3          23    South  40167.9025\n",
      "4          23     West  39584.6865\n",
      "5          23     nrth     19.5120\n"
     ]
    }
   ],
   "source": [
    "#Create Summary Table\n",
    "\n",
    "#weekly revenue by region\n",
    "merged_df = merged_df.drop(columns=['region_y'], errors='ignore')  # 'errors=ignore' avoids crash if not present\n",
    "print(merged_df.columns.tolist())\n",
    "merged_df = merged_df.rename(columns={'region_x': 'region'})\n",
    "\n",
    "weekly_revenue = merged_df.groupby(['order_week','region'])['revenue'].sum().reset_index()\n",
    "print(weekly_revenue)"
   ]
  },
  {
   "cell_type": "code",
   "execution_count": 41,
   "id": "ab47b3c5-168b-405a-b57a-9029d8afda73",
   "metadata": {},
   "outputs": [
    {
     "name": "stdout",
     "output_type": "stream",
     "text": [
      "        category     revenue  quantity  discount_applied\n",
      "0       Cleaning  75166.9440    2961.0          0.103263\n",
      "1        Kitchen  25642.7460     964.0          0.095298\n",
      "2       Outdoors  32889.2440    1257.0          0.097524\n",
      "3  Personal Care  21412.1665     771.0          0.103557\n",
      "4        Storage  38198.2375    1437.0          0.097490\n"
     ]
    }
   ],
   "source": [
    "# Product category performance\n",
    "category_performance = merged_df.groupby('category').agg({\n",
    "    'revenue': 'sum',\n",
    "    'quantity': 'sum',\n",
    "    'discount_applied': 'mean'\n",
    "}).reset_index()\n",
    "print(category_performance)"
   ]
  },
  {
   "cell_type": "code",
   "execution_count": 69,
   "id": "199926aa-764c-4dad-8de7-633ddae86b98",
   "metadata": {},
   "outputs": [
    {
     "name": "stdout",
     "output_type": "stream",
     "text": [
      "   loyalty_tier  signup_month     revenue  order_count\n",
      "0        Bronze           1.0   3450.8845           47\n",
      "1        Bronze           2.0   3911.1260           46\n",
      "2        Bronze           3.0   2501.8820           26\n",
      "3        Bronze           4.0   3373.1135           42\n",
      "4        Bronze           5.0   2690.1980           39\n",
      "5        Bronze           6.0   4946.2760           68\n",
      "6        Bronze           7.0   3213.8280           48\n",
      "7        Bronze           8.0   2463.6910           33\n",
      "8        Bronze           9.0   2565.2130           35\n",
      "9        Bronze          10.0   3009.8535           41\n",
      "10       Bronze          11.0   3522.0055           45\n",
      "11       Bronze          12.0   2831.2285           36\n",
      "12         Gold           1.0   8982.0555          119\n",
      "13         Gold           2.0  10090.4475          114\n",
      "14         Gold           3.0   7901.3925          107\n",
      "15         Gold           4.0   6401.8540           83\n",
      "16         Gold           5.0   7133.0950           97\n",
      "17         Gold           6.0   4913.2180           56\n",
      "18         Gold           7.0   9720.7450          116\n",
      "19         Gold           8.0  12176.9005          149\n",
      "20         Gold           9.0  10302.6845          126\n",
      "21         Gold          10.0  10301.1865          124\n",
      "22         Gold          11.0   9742.3930          125\n",
      "23         Gold          12.0  10575.7985          139\n",
      "24       Silver           1.0   2233.2530           33\n",
      "25       Silver           2.0   3330.6500           47\n",
      "26       Silver           3.0   4837.0175           62\n",
      "27       Silver           4.0   2986.8145           45\n",
      "28       Silver           5.0   3206.3805           37\n",
      "29       Silver           6.0   3974.4875           53\n",
      "30       Silver           7.0   2620.4760           34\n",
      "31       Silver           8.0   3803.2685           38\n",
      "32       Silver           9.0   3030.4745           44\n",
      "33       Silver          10.0   4736.7910           61\n",
      "34       Silver          11.0   5932.2815           69\n",
      "35       Silver          12.0   2388.4735           35\n",
      "36      Unknown           2.0    767.2730            9\n"
     ]
    }
   ],
   "source": [
    "# Customer behavior by loyalty tier and signup month\n",
    "loyalty_map = {\n",
    "    'gold': 'Gold',\n",
    "    'GOLD': 'Gold',\n",
    "    'gld' : 'Gold',\n",
    "    'Gld' : 'Gold',\n",
    "    'bronze': 'Bronze',\n",
    "    'brnze': 'Bronze',\n",
    "    'Brnze': 'Bronze',\n",
    "    'silver': 'Silver',\n",
    "    'sllver' : 'Silver',\n",
    "    'Sllver' : 'Silver',\n",
    "    'nan': 'Unknown'\n",
    "}\n",
    "delivery_map = {\n",
    "    'Delrd': 'Delivered',\n",
    "    'Delyd': 'Delayed',\n",
    "    'delivered': 'Delivered',\n",
    "    'delrd': 'Delivered',\n",
    "    'DELAYED': 'Delayed',\n",
    "    \n",
    "}\n",
    "merged_df['delivery_status'] = merged_df['delivery_status'].replace(delivery_map)\n",
    "merged_df['loyalty_tier'] = merged_df['loyalty_tier'].replace(loyalty_map)\n",
    "merged_df['signup_date'] = pd.to_datetime(merged_df['signup_date'], dayfirst = True, errors='coerce')\n",
    "\n",
    "merged_df['signup_month'] = merged_df['signup_date'].dt.month\n",
    "loyalty_behavior = merged_df.groupby(['loyalty_tier', 'signup_month']).agg({\n",
    "    'revenue': 'sum',\n",
    "    'order_id': 'count'\n",
    "}).rename(columns={'order_id': 'order_count'}).reset_index()\n",
    "print(loyalty_behavior)"
   ]
  },
  {
   "cell_type": "code",
   "execution_count": 70,
   "id": "6dc91819-01fd-4055-930b-1387a72881f9",
   "metadata": {},
   "outputs": [
    {
     "name": "stdout",
     "output_type": "stream",
     "text": [
      "     region price_band   is_late\n",
      "0   Central        Low  0.153846\n",
      "1   Central     Medium  0.169312\n",
      "2   Central       High  0.206573\n",
      "3      East        Low  0.202703\n",
      "4      East     Medium  0.203046\n",
      "5      East       High  0.218182\n",
      "6     North        Low  0.159574\n",
      "7     North     Medium  0.217391\n",
      "8     North       High  0.191837\n",
      "9     South        Low  0.192771\n",
      "10    South     Medium  0.194969\n",
      "11    South       High  0.254032\n",
      "12     West        Low  0.227273\n",
      "13     West     Medium  0.169082\n",
      "14     West       High  0.193694\n",
      "15     nrth        Low       NaN\n",
      "16     nrth     Medium  0.000000\n",
      "17     nrth       High       NaN\n"
     ]
    },
    {
     "name": "stderr",
     "output_type": "stream",
     "text": [
      "C:\\Users\\kpk laptops\\AppData\\Local\\Temp\\ipykernel_24168\\1845237036.py:5: FutureWarning: The default of observed=False is deprecated and will be changed to True in a future version of pandas. Pass observed=False to retain current behavior or observed=True to adopt the future default and silence this warning.\n",
      "  delivery_performance = merged_df.groupby(['region','price_band'])['is_late'].mean().reset_index()\n"
     ]
    }
   ],
   "source": [
    "# Delivery performance by region and price band\n",
    "merged_df.rename(columns={'region_x': 'region'}, inplace=True)\n",
    "\n",
    "\n",
    "delivery_performance = merged_df.groupby(['region','price_band'])['is_late'].mean().reset_index()\n",
    "print(delivery_performance)"
   ]
  },
  {
   "cell_type": "code",
   "execution_count": 55,
   "id": "5ea251b5-190c-4f36-8e6d-8925102e57b5",
   "metadata": {},
   "outputs": [
    {
     "name": "stdout",
     "output_type": "stream",
     "text": [
      "   loyalty_tier payment_method  order_count\n",
      "0        Bronze  Bank Transfer          149\n",
      "1        Bronze    Credit Card          126\n",
      "2        Bronze         PayPal          128\n",
      "3        Bronze    credit card          110\n",
      "4          Gold  Bank Transfer          327\n",
      "5          Gold    Credit Card          354\n",
      "6          Gold         PayPal          348\n",
      "7          Gold        Unknown            2\n",
      "8          Gold   bank transfr            1\n",
      "9          Gold    credit card          338\n",
      "10       Silver  Bank Transfer          159\n",
      "11       Silver    Credit Card          129\n",
      "12       Silver         PayPal          135\n",
      "13       Silver        Unknown            1\n",
      "14       Silver    credit card          134\n",
      "15      Unknown    Credit Card            5\n",
      "16      Unknown         PayPal            3\n",
      "17      Unknown    credit card            1\n"
     ]
    }
   ],
   "source": [
    "# Preferred payment method by loyalty tier\n",
    "payment_pref = merged_df.groupby(['loyalty_tier', 'payment_method'])['order_id'].count().reset_index()\n",
    "payment_pref.rename(columns={'order_id': 'order_count'}, inplace=True)\n",
    "print(payment_pref)"
   ]
  },
  {
   "cell_type": "code",
   "execution_count": 106,
   "id": "4fda4fdf-185c-4a75-93c2-ea1cbae8bca9",
   "metadata": {},
   "outputs": [
    {
     "data": {
      "text/html": [
       "<div>\n",
       "<style scoped>\n",
       "    .dataframe tbody tr th:only-of-type {\n",
       "        vertical-align: middle;\n",
       "    }\n",
       "\n",
       "    .dataframe tbody tr th {\n",
       "        vertical-align: top;\n",
       "    }\n",
       "\n",
       "    .dataframe thead th {\n",
       "        text-align: right;\n",
       "    }\n",
       "</style>\n",
       "<table border=\"1\" class=\"dataframe\">\n",
       "  <thead>\n",
       "    <tr style=\"text-align: right;\">\n",
       "      <th></th>\n",
       "      <th>signup_month</th>\n",
       "      <th>total_orders</th>\n",
       "      <th>total_revenue</th>\n",
       "      <th>avg_order_per_customer</th>\n",
       "      <th>unique_customers</th>\n",
       "      <th>avg_days_to_order</th>\n",
       "    </tr>\n",
       "  </thead>\n",
       "  <tbody>\n",
       "    <tr>\n",
       "      <th>0</th>\n",
       "      <td>2024-07</td>\n",
       "      <td>179</td>\n",
       "      <td>13737.3630</td>\n",
       "      <td>179</td>\n",
       "      <td>36</td>\n",
       "      <td>325.916201</td>\n",
       "    </tr>\n",
       "    <tr>\n",
       "      <th>1</th>\n",
       "      <td>2024-08</td>\n",
       "      <td>220</td>\n",
       "      <td>18443.8600</td>\n",
       "      <td>220</td>\n",
       "      <td>49</td>\n",
       "      <td>296.095455</td>\n",
       "    </tr>\n",
       "    <tr>\n",
       "      <th>2</th>\n",
       "      <td>2024-09</td>\n",
       "      <td>205</td>\n",
       "      <td>15898.3720</td>\n",
       "      <td>205</td>\n",
       "      <td>41</td>\n",
       "      <td>262.229268</td>\n",
       "    </tr>\n",
       "    <tr>\n",
       "      <th>3</th>\n",
       "      <td>2024-10</td>\n",
       "      <td>226</td>\n",
       "      <td>18047.8310</td>\n",
       "      <td>226</td>\n",
       "      <td>47</td>\n",
       "      <td>233.778761</td>\n",
       "    </tr>\n",
       "    <tr>\n",
       "      <th>4</th>\n",
       "      <td>2024-11</td>\n",
       "      <td>239</td>\n",
       "      <td>19196.6800</td>\n",
       "      <td>239</td>\n",
       "      <td>45</td>\n",
       "      <td>203.305439</td>\n",
       "    </tr>\n",
       "    <tr>\n",
       "      <th>5</th>\n",
       "      <td>2024-12</td>\n",
       "      <td>210</td>\n",
       "      <td>15795.5005</td>\n",
       "      <td>210</td>\n",
       "      <td>45</td>\n",
       "      <td>172.438095</td>\n",
       "    </tr>\n",
       "    <tr>\n",
       "      <th>6</th>\n",
       "      <td>2025-01</td>\n",
       "      <td>199</td>\n",
       "      <td>14666.1930</td>\n",
       "      <td>199</td>\n",
       "      <td>40</td>\n",
       "      <td>142.829146</td>\n",
       "    </tr>\n",
       "    <tr>\n",
       "      <th>7</th>\n",
       "      <td>2025-02</td>\n",
       "      <td>216</td>\n",
       "      <td>18099.4965</td>\n",
       "      <td>216</td>\n",
       "      <td>43</td>\n",
       "      <td>113.912037</td>\n",
       "    </tr>\n",
       "    <tr>\n",
       "      <th>8</th>\n",
       "      <td>2025-03</td>\n",
       "      <td>195</td>\n",
       "      <td>15240.2920</td>\n",
       "      <td>195</td>\n",
       "      <td>37</td>\n",
       "      <td>83.801020</td>\n",
       "    </tr>\n",
       "    <tr>\n",
       "      <th>9</th>\n",
       "      <td>2025-04</td>\n",
       "      <td>170</td>\n",
       "      <td>12761.7820</td>\n",
       "      <td>170</td>\n",
       "      <td>33</td>\n",
       "      <td>51.147059</td>\n",
       "    </tr>\n",
       "    <tr>\n",
       "      <th>10</th>\n",
       "      <td>2025-05</td>\n",
       "      <td>173</td>\n",
       "      <td>13029.6735</td>\n",
       "      <td>173</td>\n",
       "      <td>35</td>\n",
       "      <td>22.508671</td>\n",
       "    </tr>\n",
       "    <tr>\n",
       "      <th>11</th>\n",
       "      <td>2025-06</td>\n",
       "      <td>177</td>\n",
       "      <td>13833.9815</td>\n",
       "      <td>177</td>\n",
       "      <td>34</td>\n",
       "      <td>-6.836158</td>\n",
       "    </tr>\n",
       "    <tr>\n",
       "      <th>12</th>\n",
       "      <td>2025-07</td>\n",
       "      <td>19</td>\n",
       "      <td>1817.6860</td>\n",
       "      <td>19</td>\n",
       "      <td>3</td>\n",
       "      <td>-25.052632</td>\n",
       "    </tr>\n",
       "  </tbody>\n",
       "</table>\n",
       "</div>"
      ],
      "text/plain": [
       "   signup_month  total_orders  total_revenue  avg_order_per_customer  \\\n",
       "0       2024-07           179     13737.3630                     179   \n",
       "1       2024-08           220     18443.8600                     220   \n",
       "2       2024-09           205     15898.3720                     205   \n",
       "3       2024-10           226     18047.8310                     226   \n",
       "4       2024-11           239     19196.6800                     239   \n",
       "5       2024-12           210     15795.5005                     210   \n",
       "6       2025-01           199     14666.1930                     199   \n",
       "7       2025-02           216     18099.4965                     216   \n",
       "8       2025-03           195     15240.2920                     195   \n",
       "9       2025-04           170     12761.7820                     170   \n",
       "10      2025-05           173     13029.6735                     173   \n",
       "11      2025-06           177     13833.9815                     177   \n",
       "12      2025-07            19      1817.6860                      19   \n",
       "\n",
       "    unique_customers  avg_days_to_order  \n",
       "0                 36         325.916201  \n",
       "1                 49         296.095455  \n",
       "2                 41         262.229268  \n",
       "3                 47         233.778761  \n",
       "4                 45         203.305439  \n",
       "5                 45         172.438095  \n",
       "6                 40         142.829146  \n",
       "7                 43         113.912037  \n",
       "8                 37          83.801020  \n",
       "9                 33          51.147059  \n",
       "10                35          22.508671  \n",
       "11                34          -6.836158  \n",
       "12                 3         -25.052632  "
      ]
     },
     "execution_count": 106,
     "metadata": {},
     "output_type": "execute_result"
    }
   ],
   "source": [
    "merged_df['signup_month'] = merged_df['signup_date'].dt.to_period('M')\n",
    "signup_analysis = merged_df.groupby('signup_month').agg(\n",
    "    total_orders=('order_id', 'nunique'),\n",
    "    total_revenue=('revenue', 'sum'),\n",
    "    avg_order_per_customer=('order_id', 'count'),\n",
    "    unique_customers=('customer_id', 'nunique')\n",
    ").reset_index()\n",
    "merged_df['days_signup_to_order'] = (merged_df['order_date'] - merged_df['signup_date']).dt.days\n",
    "signup_days_gap = merged_df.groupby('signup_month')['days_signup_to_order'].mean().reset_index(name='avg_days_to_order')\n",
    "signup_summary = pd.merge(signup_analysis, signup_days_gap, on='signup_month')\n",
    "signup_summary\n"
   ]
  },
  {
   "cell_type": "code",
   "execution_count": 107,
   "id": "3d37fa3a-40d1-4ec1-ac6d-c09bbf20c32b",
   "metadata": {},
   "outputs": [
    {
     "name": "stderr",
     "output_type": "stream",
     "text": [
      "C:\\Users\\kpk laptops\\AppData\\Local\\Temp\\ipykernel_24168\\2602517787.py:3: FutureWarning: \n",
      "\n",
      "Passing `palette` without assigning `hue` is deprecated and will be removed in v0.14.0. Assign the `x` variable to `hue` and set `legend=False` for the same effect.\n",
      "\n",
      "  sns.barplot(data=signup_summary, x='signup_month', y='total_orders', palette='Blues')\n"
     ]
    },
    {
     "data": {
      "image/png": "[encoded data removed]",
      "text/plain": [
       "<Figure size 1000x500 with 1 Axes>"
      ]
     },
     "metadata": {},
     "output_type": "display_data"
    }
   ],
   "source": [
    "#Plot: Orders by Signup Month\n",
    "plt.figure(figsize=(10,5))\n",
    "sns.barplot(data=signup_summary, x='signup_month', y='total_orders', palette='Blues')\n",
    "plt.title(\"Total Orders by Signup Month\")\n",
    "plt.xticks(rotation=45)\n",
    "plt.tight_layout()\n",
    "plt.show()\n"
   ]
  },
  {
   "cell_type": "code",
   "execution_count": 108,
   "id": "f67e41b4-4dfb-44c6-93cd-e5ab65d07ccd",
   "metadata": {},
   "outputs": [
    {
     "ename": "TypeError",
     "evalue": "Invalid object type at position 0",
     "output_type": "error",
     "traceback": [
      "\u001b[31m---------------------------------------------------------------------------\u001b[39m",
      "\u001b[31mTypeError\u001b[39m                                 Traceback (most recent call last)",
      "\u001b[36mFile \u001b[39m\u001b[32mpandas/_libs/lib.pyx:2407\u001b[39m, in \u001b[36mpandas._libs.lib.maybe_convert_numeric\u001b[39m\u001b[34m()\u001b[39m\n",
      "\u001b[31mTypeError\u001b[39m: Invalid object type",
      "\nDuring handling of the above exception, another exception occurred:\n",
      "\u001b[31mTypeError\u001b[39m                                 Traceback (most recent call last)",
      "\u001b[36mCell\u001b[39m\u001b[36m \u001b[39m\u001b[32mIn[108]\u001b[39m\u001b[32m, line 4\u001b[39m\n\u001b[32m      1\u001b[39m \u001b[38;5;66;03m#Plot: Revenue by Signup Month\u001b[39;00m\n\u001b[32m      3\u001b[39m plt.figure(figsize=(\u001b[32m10\u001b[39m,\u001b[32m5\u001b[39m))\n\u001b[32m----> \u001b[39m\u001b[32m4\u001b[39m \u001b[43msns\u001b[49m\u001b[43m.\u001b[49m\u001b[43mlineplot\u001b[49m\u001b[43m(\u001b[49m\u001b[43mdata\u001b[49m\u001b[43m=\u001b[49m\u001b[43msignup_summary\u001b[49m\u001b[43m,\u001b[49m\u001b[43m \u001b[49m\u001b[43mx\u001b[49m\u001b[43m=\u001b[49m\u001b[33;43m'\u001b[39;49m\u001b[33;43msignup_month\u001b[39;49m\u001b[33;43m'\u001b[39;49m\u001b[43m,\u001b[49m\u001b[43m \u001b[49m\u001b[43my\u001b[49m\u001b[43m=\u001b[49m\u001b[33;43m'\u001b[39;49m\u001b[33;43mtotal_revenue\u001b[39;49m\u001b[33;43m'\u001b[39;49m\u001b[43m,\u001b[49m\u001b[43m \u001b[49m\u001b[43mmarker\u001b[49m\u001b[43m=\u001b[49m\u001b[33;43m'\u001b[39;49m\u001b[33;43mo\u001b[39;49m\u001b[33;43m'\u001b[39;49m\u001b[43m,\u001b[49m\u001b[43m \u001b[49m\u001b[43mcolor\u001b[49m\u001b[43m=\u001b[49m\u001b[33;43m'\u001b[39;49m\u001b[33;43mgreen\u001b[39;49m\u001b[33;43m'\u001b[39;49m\u001b[43m)\u001b[49m\n\u001b[32m      5\u001b[39m plt.title(\u001b[33m\"\u001b[39m\u001b[33mRevenue by Signup Month\u001b[39m\u001b[33m\"\u001b[39m)\n\u001b[32m      6\u001b[39m plt.xticks(rotation=\u001b[32m45\u001b[39m)\n",
      "\u001b[36mFile \u001b[39m\u001b[32m~\\AppData\\Local\\Programs\\Python\\Python313\\Lib\\site-packages\\seaborn\\relational.py:515\u001b[39m, in \u001b[36mlineplot\u001b[39m\u001b[34m(data, x, y, hue, size, style, units, weights, palette, hue_order, hue_norm, sizes, size_order, size_norm, dashes, markers, style_order, estimator, errorbar, n_boot, seed, orient, sort, err_style, err_kws, legend, ci, ax, **kwargs)\u001b[39m\n\u001b[32m    512\u001b[39m color = kwargs.pop(\u001b[33m\"\u001b[39m\u001b[33mcolor\u001b[39m\u001b[33m\"\u001b[39m, kwargs.pop(\u001b[33m\"\u001b[39m\u001b[33mc\u001b[39m\u001b[33m\"\u001b[39m, \u001b[38;5;28;01mNone\u001b[39;00m))\n\u001b[32m    513\u001b[39m kwargs[\u001b[33m\"\u001b[39m\u001b[33mcolor\u001b[39m\u001b[33m\"\u001b[39m] = _default_color(ax.plot, hue, color, kwargs)\n\u001b[32m--> \u001b[39m\u001b[32m515\u001b[39m \u001b[43mp\u001b[49m\u001b[43m.\u001b[49m\u001b[43mplot\u001b[49m\u001b[43m(\u001b[49m\u001b[43max\u001b[49m\u001b[43m,\u001b[49m\u001b[43m \u001b[49m\u001b[43mkwargs\u001b[49m\u001b[43m)\u001b[49m\n\u001b[32m    516\u001b[39m \u001b[38;5;28;01mreturn\u001b[39;00m ax\n",
      "\u001b[36mFile \u001b[39m\u001b[32m~\\AppData\\Local\\Programs\\Python\\Python313\\Lib\\site-packages\\seaborn\\relational.py:276\u001b[39m, in \u001b[36m_LinePlotter.plot\u001b[39m\u001b[34m(self, ax, kws)\u001b[39m\n\u001b[32m    268\u001b[39m \u001b[38;5;66;03m# TODO How to handle NA? We don't want NA to propagate through to the\u001b[39;00m\n\u001b[32m    269\u001b[39m \u001b[38;5;66;03m# estimate/CI when some values are present, but we would also like\u001b[39;00m\n\u001b[32m    270\u001b[39m \u001b[38;5;66;03m# matplotlib to show \"gaps\" in the line when all values are missing.\u001b[39;00m\n\u001b[32m   (...)\u001b[39m\u001b[32m    273\u001b[39m \n\u001b[32m    274\u001b[39m \u001b[38;5;66;03m# Loop over the semantic subsets and add to the plot\u001b[39;00m\n\u001b[32m    275\u001b[39m grouping_vars = \u001b[33m\"\u001b[39m\u001b[33mhue\u001b[39m\u001b[33m\"\u001b[39m, \u001b[33m\"\u001b[39m\u001b[33msize\u001b[39m\u001b[33m\"\u001b[39m, \u001b[33m\"\u001b[39m\u001b[33mstyle\u001b[39m\u001b[33m\"\u001b[39m\n\u001b[32m--> \u001b[39m\u001b[32m276\u001b[39m \u001b[43m\u001b[49m\u001b[38;5;28;43;01mfor\u001b[39;49;00m\u001b[43m \u001b[49m\u001b[43msub_vars\u001b[49m\u001b[43m,\u001b[49m\u001b[43m \u001b[49m\u001b[43msub_data\u001b[49m\u001b[43m \u001b[49m\u001b[38;5;129;43;01min\u001b[39;49;00m\u001b[43m \u001b[49m\u001b[38;5;28;43mself\u001b[39;49m\u001b[43m.\u001b[49m\u001b[43miter_data\u001b[49m\u001b[43m(\u001b[49m\u001b[43mgrouping_vars\u001b[49m\u001b[43m,\u001b[49m\u001b[43m \u001b[49m\u001b[43mfrom_comp_data\u001b[49m\u001b[43m=\u001b[49m\u001b[38;5;28;43;01mTrue\u001b[39;49;00m\u001b[43m)\u001b[49m\u001b[43m:\u001b[49m\n\u001b[32m    278\u001b[39m \u001b[43m    \u001b[49m\u001b[38;5;28;43;01mif\u001b[39;49;00m\u001b[43m \u001b[49m\u001b[38;5;28;43mself\u001b[39;49m\u001b[43m.\u001b[49m\u001b[43msort\u001b[49m\u001b[43m:\u001b[49m\n\u001b[32m    279\u001b[39m \u001b[43m        \u001b[49m\u001b[43msort_vars\u001b[49m\u001b[43m \u001b[49m\u001b[43m=\u001b[49m\u001b[43m \u001b[49m\u001b[43m[\u001b[49m\u001b[33;43m\"\u001b[39;49m\u001b[33;43munits\u001b[39;49m\u001b[33;43m\"\u001b[39;49m\u001b[43m,\u001b[49m\u001b[43m \u001b[49m\u001b[43morient\u001b[49m\u001b[43m,\u001b[49m\u001b[43m \u001b[49m\u001b[43mother\u001b[49m\u001b[43m]\u001b[49m\n",
      "\u001b[36mFile \u001b[39m\u001b[32m~\\AppData\\Local\\Programs\\Python\\Python313\\Lib\\site-packages\\seaborn\\_base.py:902\u001b[39m, in \u001b[36mVectorPlotter.iter_data\u001b[39m\u001b[34m(self, grouping_vars, reverse, from_comp_data, by_facet, allow_empty, dropna)\u001b[39m\n\u001b[32m    899\u001b[39m grouping_vars = [var \u001b[38;5;28;01mfor\u001b[39;00m var \u001b[38;5;129;01min\u001b[39;00m grouping_vars \u001b[38;5;28;01mif\u001b[39;00m var \u001b[38;5;129;01min\u001b[39;00m \u001b[38;5;28mself\u001b[39m.variables]\n\u001b[32m    901\u001b[39m \u001b[38;5;28;01mif\u001b[39;00m from_comp_data:\n\u001b[32m--> \u001b[39m\u001b[32m902\u001b[39m     data = \u001b[38;5;28;43mself\u001b[39;49m\u001b[43m.\u001b[49m\u001b[43mcomp_data\u001b[49m\n\u001b[32m    903\u001b[39m \u001b[38;5;28;01melse\u001b[39;00m:\n\u001b[32m    904\u001b[39m     data = \u001b[38;5;28mself\u001b[39m.plot_data\n",
      "\u001b[36mFile \u001b[39m\u001b[32m~\\AppData\\Local\\Programs\\Python\\Python313\\Lib\\site-packages\\seaborn\\_base.py:1000\u001b[39m, in \u001b[36mVectorPlotter.comp_data\u001b[39m\u001b[34m(self)\u001b[39m\n\u001b[32m    995\u001b[39m \u001b[38;5;28;01mif\u001b[39;00m var \u001b[38;5;129;01min\u001b[39;00m \u001b[38;5;28mself\u001b[39m.var_levels:\n\u001b[32m    996\u001b[39m     \u001b[38;5;66;03m# TODO this should happen in some centralized location\u001b[39;00m\n\u001b[32m    997\u001b[39m     \u001b[38;5;66;03m# it is similar to GH2419, but more complicated because\u001b[39;00m\n\u001b[32m    998\u001b[39m     \u001b[38;5;66;03m# supporting `order` in categorical plots is tricky\u001b[39;00m\n\u001b[32m    999\u001b[39m     orig = orig[orig.isin(\u001b[38;5;28mself\u001b[39m.var_levels[var])]\n\u001b[32m-> \u001b[39m\u001b[32m1000\u001b[39m comp = \u001b[43mpd\u001b[49m\u001b[43m.\u001b[49m\u001b[43mto_numeric\u001b[49m\u001b[43m(\u001b[49m\u001b[43mconverter\u001b[49m\u001b[43m.\u001b[49m\u001b[43mconvert_units\u001b[49m\u001b[43m(\u001b[49m\u001b[43morig\u001b[49m\u001b[43m)\u001b[49m\u001b[43m)\u001b[49m.astype(\u001b[38;5;28mfloat\u001b[39m)\n\u001b[32m   1001\u001b[39m transform = converter.get_transform().transform\n\u001b[32m   1002\u001b[39m parts.append(pd.Series(transform(comp), orig.index, name=orig.name))\n",
      "\u001b[36mFile \u001b[39m\u001b[32m~\\AppData\\Local\\Programs\\Python\\Python313\\Lib\\site-packages\\pandas\\core\\tools\\numeric.py:235\u001b[39m, in \u001b[36mto_numeric\u001b[39m\u001b[34m(arg, errors, downcast, dtype_backend)\u001b[39m\n\u001b[32m    233\u001b[39m coerce_numeric = errors \u001b[38;5;129;01mnot\u001b[39;00m \u001b[38;5;129;01min\u001b[39;00m (\u001b[33m\"\u001b[39m\u001b[33mignore\u001b[39m\u001b[33m\"\u001b[39m, \u001b[33m\"\u001b[39m\u001b[33mraise\u001b[39m\u001b[33m\"\u001b[39m)\n\u001b[32m    234\u001b[39m \u001b[38;5;28;01mtry\u001b[39;00m:\n\u001b[32m--> \u001b[39m\u001b[32m235\u001b[39m     values, new_mask = \u001b[43mlib\u001b[49m\u001b[43m.\u001b[49m\u001b[43mmaybe_convert_numeric\u001b[49m\u001b[43m(\u001b[49m\u001b[43m  \u001b[49m\u001b[38;5;66;43;03m# type: ignore[call-overload]\u001b[39;49;00m\n\u001b[32m    236\u001b[39m \u001b[43m        \u001b[49m\u001b[43mvalues\u001b[49m\u001b[43m,\u001b[49m\n\u001b[32m    237\u001b[39m \u001b[43m        \u001b[49m\u001b[38;5;28;43mset\u001b[39;49m\u001b[43m(\u001b[49m\u001b[43m)\u001b[49m\u001b[43m,\u001b[49m\n\u001b[32m    238\u001b[39m \u001b[43m        \u001b[49m\u001b[43mcoerce_numeric\u001b[49m\u001b[43m=\u001b[49m\u001b[43mcoerce_numeric\u001b[49m\u001b[43m,\u001b[49m\n\u001b[32m    239\u001b[39m \u001b[43m        \u001b[49m\u001b[43mconvert_to_masked_nullable\u001b[49m\u001b[43m=\u001b[49m\u001b[43mdtype_backend\u001b[49m\u001b[43m \u001b[49m\u001b[38;5;129;43;01mis\u001b[39;49;00m\u001b[43m \u001b[49m\u001b[38;5;129;43;01mnot\u001b[39;49;00m\u001b[43m \u001b[49m\u001b[43mlib\u001b[49m\u001b[43m.\u001b[49m\u001b[43mno_default\u001b[49m\n\u001b[32m    240\u001b[39m \u001b[43m        \u001b[49m\u001b[38;5;129;43;01mor\u001b[39;49;00m\u001b[43m \u001b[49m\u001b[38;5;28;43misinstance\u001b[39;49m\u001b[43m(\u001b[49m\u001b[43mvalues_dtype\u001b[49m\u001b[43m,\u001b[49m\u001b[43m \u001b[49m\u001b[43mStringDtype\u001b[49m\u001b[43m)\u001b[49m\n\u001b[32m    241\u001b[39m \u001b[43m        \u001b[49m\u001b[38;5;129;43;01mand\u001b[39;49;00m\u001b[43m \u001b[49m\u001b[43mvalues_dtype\u001b[49m\u001b[43m.\u001b[49m\u001b[43mna_value\u001b[49m\u001b[43m \u001b[49m\u001b[38;5;129;43;01mis\u001b[39;49;00m\u001b[43m \u001b[49m\u001b[43mlibmissing\u001b[49m\u001b[43m.\u001b[49m\u001b[43mNA\u001b[49m\u001b[43m,\u001b[49m\n\u001b[32m    242\u001b[39m \u001b[43m    \u001b[49m\u001b[43m)\u001b[49m\n\u001b[32m    243\u001b[39m \u001b[38;5;28;01mexcept\u001b[39;00m (\u001b[38;5;167;01mValueError\u001b[39;00m, \u001b[38;5;167;01mTypeError\u001b[39;00m):\n\u001b[32m    244\u001b[39m     \u001b[38;5;28;01mif\u001b[39;00m errors == \u001b[33m\"\u001b[39m\u001b[33mraise\u001b[39m\u001b[33m\"\u001b[39m:\n",
      "\u001b[36mFile \u001b[39m\u001b[32mpandas/_libs/lib.pyx:2449\u001b[39m, in \u001b[36mpandas._libs.lib.maybe_convert_numeric\u001b[39m\u001b[34m()\u001b[39m\n",
      "\u001b[31mTypeError\u001b[39m: Invalid object type at position 0"
     ]
    },
    {
     "data": {
      "image/png": "[encoded data removed]",
      "text/plain": [
       "<Figure size 1000x500 with 1 Axes>"
      ]
     },
     "metadata": {},
     "output_type": "display_data"
    }
   ],
   "source": [
    "#Plot: Revenue by Signup Month\n",
    "\n",
    "plt.figure(figsize=(10,5))\n",
    "sns.lineplot(data=signup_summary, x='signup_month', y='total_revenue', marker='o', color='green')\n",
    "plt.title(\"Revenue by Signup Month\")\n",
    "plt.xticks(rotation=45)\n",
    "plt.tight_layout()\n",
    "plt.show()\n"
   ]
  },
  {
   "cell_type": "code",
   "execution_count": 109,
   "id": "9d164b62-18fc-457c-94d0-0bcb41dfdb28",
   "metadata": {},
   "outputs": [
    {
     "name": "stderr",
     "output_type": "stream",
     "text": [
      "C:\\Users\\kpk laptops\\AppData\\Local\\Temp\\ipykernel_24168\\3661246882.py:3: FutureWarning: \n",
      "\n",
      "Passing `palette` without assigning `hue` is deprecated and will be removed in v0.14.0. Assign the `x` variable to `hue` and set `legend=False` for the same effect.\n",
      "\n",
      "  sns.barplot(data=signup_summary, x='signup_month', y='avg_days_to_order', palette='coolwarm')\n"
     ]
    },
    {
     "data": {
      "image/png": "[encoded data removed]",
      "text/plain": [
       "<Figure size 1000x500 with 1 Axes>"
      ]
     },
     "metadata": {},
     "output_type": "display_data"
    }
   ],
   "source": [
    "#Plot: Avg Days Between Signup and Order\n",
    "plt.figure(figsize=(10,5))\n",
    "sns.barplot(data=signup_summary, x='signup_month', y='avg_days_to_order', palette='coolwarm')\n",
    "plt.title(\"Average Days to Order After Signup\")\n",
    "plt.xticks(rotation=45)\n",
    "plt.tight_layout()\n",
    "plt.show()\n",
    "\n"
   ]
  },
  {
   "cell_type": "code",
   "execution_count": 62,
   "id": "46314fa2-b193-4144-ae73-6c9e57668e85",
   "metadata": {},
   "outputs": [
    {
     "data": {
      "image/png": "[encoded data removed]",
      "text/plain": [
       "<Figure size 1000x600 with 1 Axes>"
      ]
     },
     "metadata": {},
     "output_type": "display_data"
    }
   ],
   "source": [
    "#VISUALIZATION\n",
    "weekly_revenue = weekly_revenue.sort_values(by=['region', 'order_week'])\n",
    "\n",
    "\n",
    "# 1. Line plot - weekly revenue trends by region\n",
    "plt.figure(figsize=(10,6))\n",
    "sns.lineplot(data=weekly_revenue, x='order_week', y='revenue', hue='region', marker='o')\n",
    "plt.title('Weekly Revenue Trends by Region')\n",
    "plt.xlabel('Order Week')\n",
    "plt.ylabel('Revenue')\n",
    "plt.legend(title='Region')\n",
    "plt.show()"
   ]
  },
  {
   "cell_type": "code",
   "execution_count": 59,
   "id": "9f091f15-6fc8-4352-b604-5891206e1a08",
   "metadata": {},
   "outputs": [
    {
     "name": "stdout",
     "output_type": "stream",
     "text": [
      "order_week    0\n",
      "region        0\n",
      "revenue       0\n",
      "dtype: int64\n"
     ]
    }
   ],
   "source": [
    "print(weekly_revenue.isna().sum())\n"
   ]
  },
  {
   "cell_type": "code",
   "execution_count": 60,
   "id": "1ce665fb-5f4d-4bd9-b358-e262e716ad29",
   "metadata": {},
   "outputs": [
    {
     "name": "stdout",
     "output_type": "stream",
     "text": [
      "   order_week   region     revenue\n",
      "0          23  Central  37199.7815\n",
      "1          23     East  39026.6280\n",
      "2          23    North  37310.8275\n",
      "3          23    South  40167.9025\n",
      "4          23     West  39584.6865\n"
     ]
    }
   ],
   "source": [
    "print(weekly_revenue.head())\n"
   ]
  },
  {
   "cell_type": "code",
   "execution_count": 63,
   "id": "022c666e-eb38-4f3f-8d4c-6e923d4e0b90",
   "metadata": {},
   "outputs": [
    {
     "name": "stdout",
     "output_type": "stream",
     "text": [
      "1\n"
     ]
    }
   ],
   "source": [
    "print(weekly_revenue['order_week'].nunique())\n"
   ]
  },
  {
   "cell_type": "code",
   "execution_count": 64,
   "id": "ae4cc345-54cc-4eef-a543-e6b693926802",
   "metadata": {},
   "outputs": [
    {
     "name": "stderr",
     "output_type": "stream",
     "text": [
      "C:\\Users\\kpk laptops\\AppData\\Local\\Temp\\ipykernel_24168\\2553852496.py:4: FutureWarning: \n",
      "\n",
      "Passing `palette` without assigning `hue` is deprecated and will be removed in v0.14.0. Assign the `x` variable to `hue` and set `legend=False` for the same effect.\n",
      "\n",
      "  sns.barplot(data=top_categories, x='category', y='revenue', palette='Blues_d')\n"
     ]
    },
    {
     "data": {
      "image/png": "[encoded data removed]",
      "text/plain": [
       "<Figure size 800x500 with 1 Axes>"
      ]
     },
     "metadata": {},
     "output_type": "display_data"
    }
   ],
   "source": [
    "# 2. Bar chart - Top 5 categories by revenue\n",
    "top_categories = category_performance.sort_values('revenue', ascending=False).head(5)\n",
    "plt.figure(figsize=(8,5))\n",
    "sns.barplot(data=top_categories, x='category', y='revenue', palette='Blues_d')\n",
    "plt.title('Top 5 Product Categories by Revenue')\n",
    "plt.xticks(rotation=45)\n",
    "plt.show()"
   ]
  },
  {
   "cell_type": "code",
   "execution_count": 65,
   "id": "57a6b722-278f-4303-ba85-bb98093d8054",
   "metadata": {},
   "outputs": [
    {
     "data": {
      "image/png": "[encoded data removed]",
      "text/plain": [
       "<Figure size 1000x600 with 1 Axes>"
      ]
     },
     "metadata": {},
     "output_type": "display_data"
    }
   ],
   "source": [
    "# 3. Boxplot - quantity vs discount across categories\n",
    "plt.figure(figsize=(10,6))\n",
    "sns.boxplot(data=merged_df, x='category', y='quantity', hue='price_band')\n",
    "plt.title('Quantity vs Discount Across Categories')\n",
    "plt.xticks(rotation=45)\n",
    "plt.show()\n"
   ]
  },
  {
   "cell_type": "code",
   "execution_count": 66,
   "id": "2b327a09-9fbd-4f92-9c48-59bd377c6148",
   "metadata": {},
   "outputs": [
    {
     "data": {
      "image/png": "[encoded data removed]",
      "text/plain": [
       "<Figure size 600x500 with 2 Axes>"
      ]
     },
     "metadata": {},
     "output_type": "display_data"
    }
   ],
   "source": [
    "# 4. Heatmap - correlation between revenue, discount, and quantity\n",
    "plt.figure(figsize=(6,5))\n",
    "corr = merged_df[['revenue', 'discount_applied', 'quantity']].corr()\n",
    "sns.heatmap(corr, annot=True, cmap='Blues')\n",
    "plt.title('Correlation Matrix')\n",
    "plt.show()"
   ]
  },
  {
   "cell_type": "code",
   "execution_count": 67,
   "id": "69f496e4-1328-47c0-be05-a64241b67778",
   "metadata": {},
   "outputs": [
    {
     "data": {
      "image/png": "[encoded data removed]",
      "text/plain": [
       "<Figure size 800x500 with 1 Axes>"
      ]
     },
     "metadata": {},
     "output_type": "display_data"
    }
   ],
   "source": [
    "# 5. Countplot - orders by loyalty tier and region\n",
    "plt.figure(figsize=(8,5))\n",
    "sns.countplot(data=merged_df, x='loyalty_tier', hue='region')\n",
    "plt.title('Orders by Loyalty Tier and Region')\n",
    "plt.show()"
   ]
  },
  {
   "cell_type": "code",
   "execution_count": 71,
   "id": "2122d2a1-bb14-401f-b0a0-cd5090e80394",
   "metadata": {},
   "outputs": [
    {
     "name": "stderr",
     "output_type": "stream",
     "text": [
      "C:\\Users\\kpk laptops\\AppData\\Local\\Temp\\ipykernel_24168\\1637085204.py:2: FutureWarning: The default of observed=False is deprecated and will be changed to True in a future version of pandas. Pass observed=False to retain current behavior or observed=True to adopt the future default and silence this warning.\n",
      "  delivery_counts = merged_df.groupby('price_band')['delivery_status'].value_counts().unstack()\n"
     ]
    },
    {
     "data": {
      "image/png": "[encoded data removed]",
      "text/plain": [
       "<Figure size 800x600 with 1 Axes>"
      ]
     },
     "metadata": {},
     "output_type": "display_data"
    }
   ],
   "source": [
    "# 6. Pie chart - delivery status by price band\n",
    "delivery_counts = merged_df.groupby('price_band')['delivery_status'].value_counts().unstack()\n",
    "delivery_counts.plot(kind='bar', stacked=True, figsize=(8,6), colormap='coolwarm')\n",
    "plt.title('Delivery Status by Price Band')\n",
    "plt.ylabel('Number of Orders')\n",
    "plt.xticks(rotation=0)\n",
    "plt.legend(title='Delivery Status')\n",
    "plt.show()"
   ]
  },
  {
   "cell_type": "code",
   "execution_count": 78,
   "id": "81fc5fb2-5796-4ade-8720-f9f0d9ab2304",
   "metadata": {},
   "outputs": [
    {
     "data": {
      "text/html": [
       "<div>\n",
       "<style scoped>\n",
       "    .dataframe tbody tr th:only-of-type {\n",
       "        vertical-align: middle;\n",
       "    }\n",
       "\n",
       "    .dataframe tbody tr th {\n",
       "        vertical-align: top;\n",
       "    }\n",
       "\n",
       "    .dataframe thead th {\n",
       "        text-align: right;\n",
       "    }\n",
       "</style>\n",
       "<table border=\"1\" class=\"dataframe\">\n",
       "  <thead>\n",
       "    <tr style=\"text-align: right;\">\n",
       "      <th></th>\n",
       "      <th>order_id</th>\n",
       "      <th>customer_id</th>\n",
       "      <th>product_id</th>\n",
       "      <th>quantity</th>\n",
       "      <th>unit_price</th>\n",
       "      <th>order_date</th>\n",
       "      <th>delivery_status</th>\n",
       "      <th>payment_method</th>\n",
       "      <th>region</th>\n",
       "      <th>discount_applied</th>\n",
       "      <th>...</th>\n",
       "      <th>gender</th>\n",
       "      <th>loyalty_tier</th>\n",
       "      <th>revenue</th>\n",
       "      <th>order_week</th>\n",
       "      <th>price_band</th>\n",
       "      <th>days_to_order</th>\n",
       "      <th>email_domain</th>\n",
       "      <th>is_late</th>\n",
       "      <th>signup_month</th>\n",
       "      <th>days_from_signup_to_order</th>\n",
       "    </tr>\n",
       "  </thead>\n",
       "  <tbody>\n",
       "  </tbody>\n",
       "</table>\n",
       "<p>0 rows × 27 columns</p>\n",
       "</div>"
      ],
      "text/plain": [
       "Empty DataFrame\n",
       "Columns: [order_id, customer_id, product_id, quantity, unit_price, order_date, delivery_status, payment_method, region, discount_applied, product_name, category, launch_date, base_price, supplier_code, email, signup_date, gender, loyalty_tier, revenue, order_week, price_band, days_to_order, email_domain, is_late, signup_month, days_from_signup_to_order]\n",
       "Index: []\n",
       "\n",
       "[0 rows x 27 columns]"
      ]
     },
     "execution_count": 78,
     "metadata": {},
     "output_type": "execute_result"
    }
   ],
   "source": [
    "# CUSTOMERS WHO SIGN UP IN Q2, ORDER WITHIN 14 DAYS AND RECEIVED A DISCOUNT GREATER THAN 20%\n",
    "# Days between sign up and order\n",
    "\n",
    "merged_df['days_from_signup_to_order'] = (merged_df['signup_date'] - merged_df['order_date']).dt.days\n",
    "#Sign up dates are April, May and June, 4,5,6\n",
    "q2_customers = merged_df.query(\n",
    "    '(signup_date.dt.month >= 4 and signup_date.dt.month <= 6) and '\n",
    "    '(days_from_signup_to_order <= 14) and '\n",
    "    '(discount_applied > 0.2)'\n",
    ")\n",
    "q2_customers.head()"
   ]
  },
  {
   "cell_type": "code",
   "execution_count": 79,
   "id": "56db8203-5dc7-4eb3-8151-bbdfcde2859b",
   "metadata": {},
   "outputs": [
    {
     "data": {
      "text/plain": [
       "signup_date\n",
       "1.0     199\n",
       "2.0     216\n",
       "3.0     196\n",
       "4.0     170\n",
       "5.0     173\n",
       "6.0     177\n",
       "7.0     198\n",
       "8.0     220\n",
       "9.0     205\n",
       "10.0    226\n",
       "11.0    239\n",
       "12.0    210\n",
       "Name: count, dtype: int64"
      ]
     },
     "execution_count": 79,
     "metadata": {},
     "output_type": "execute_result"
    }
   ],
   "source": [
    "merged_df['signup_date'].dt.month.value_counts().sort_index()\n"
   ]
  },
  {
   "cell_type": "code",
   "execution_count": 80,
   "id": "76c0f9cf-3bfc-4b16-9fce-fa57962e7d86",
   "metadata": {},
   "outputs": [
    {
     "data": {
      "text/plain": [
       "count    2429.000000\n",
       "mean     -162.712639\n",
       "std       102.551300\n",
       "min      -336.000000\n",
       "25%      -248.000000\n",
       "50%      -166.000000\n",
       "75%       -80.000000\n",
       "max        29.000000\n",
       "Name: days_from_signup_to_order, dtype: float64"
      ]
     },
     "execution_count": 80,
     "metadata": {},
     "output_type": "execute_result"
    }
   ],
   "source": [
    "merged_df['days_from_signup_to_order'].describe()\n"
   ]
  },
  {
   "cell_type": "code",
   "execution_count": 81,
   "id": "691fdd7f-268e-48b4-986d-02e4b7137b0b",
   "metadata": {},
   "outputs": [
    {
     "data": {
      "text/plain": [
       "(0.08, 0.12]                      506\n",
       "(0.12, 0.16]                      506\n",
       "(0.04, 0.08]                      502\n",
       "(0.16, 0.2]                       479\n",
       "(-0.0012000000000000001, 0.04]    477\n",
       "Name: count, dtype: int64"
      ]
     },
     "execution_count": 81,
     "metadata": {},
     "output_type": "execute_result"
    }
   ],
   "source": [
    "merged_df['discount_applied'].value_counts(bins=5)\n"
   ]
  },
  {
   "cell_type": "code",
   "execution_count": 82,
   "id": "5549a332-1f55-42fe-80d8-e7a6c7a279cd",
   "metadata": {},
   "outputs": [],
   "source": [
    "merged_df['days_from_signup_to_order'] = (merged_df['order_date'] - merged_df['signup_date']).dt.days\n"
   ]
  },
  {
   "cell_type": "code",
   "execution_count": 83,
   "id": "94b72723-e963-4a98-ae66-e3793d826b63",
   "metadata": {},
   "outputs": [
    {
     "name": "stdout",
     "output_type": "stream",
     "text": [
      "0       272.0\n",
      "1       305.0\n",
      "2       255.0\n",
      "3       314.0\n",
      "4       262.0\n",
      "        ...  \n",
      "2472    218.0\n",
      "2473    226.0\n",
      "2474    103.0\n",
      "2475    228.0\n",
      "2476    122.0\n",
      "Name: days_from_signup_to_order, Length: 2470, dtype: float64\n"
     ]
    }
   ],
   "source": [
    "print(merged_df['days_from_signup_to_order'])"
   ]
  },
  {
   "cell_type": "code",
   "execution_count": 84,
   "id": "cb33f11e-9b3e-4709-bf24-6323539ffde9",
   "metadata": {},
   "outputs": [
    {
     "data": {
      "text/plain": [
       "count    2429.000000\n",
       "mean      162.712639\n",
       "std       102.551300\n",
       "min       -29.000000\n",
       "25%        80.000000\n",
       "50%       166.000000\n",
       "75%       248.000000\n",
       "max       336.000000\n",
       "Name: days_from_signup_to_order, dtype: float64"
      ]
     },
     "execution_count": 84,
     "metadata": {},
     "output_type": "execute_result"
    }
   ],
   "source": [
    "merged_df['days_from_signup_to_order'].describe()\n"
   ]
  },
  {
   "cell_type": "code",
   "execution_count": 85,
   "id": "1a0b3cef-19f1-4594-a3fb-58ad4d75c7ca",
   "metadata": {},
   "outputs": [
    {
     "name": "stdout",
     "output_type": "stream",
     "text": [
      "Orders within 14 days: (239, 27)\n"
     ]
    }
   ],
   "source": [
    "within_14 = merged_df[merged_df['days_from_signup_to_order'] <= 14]\n",
    "print(\"Orders within 14 days:\", within_14.shape)\n"
   ]
  },
  {
   "cell_type": "code",
   "execution_count": 86,
   "id": "5adb0ff0-8572-42c3-9d68-e1ec0200472c",
   "metadata": {},
   "outputs": [
    {
     "name": "stdout",
     "output_type": "stream",
     "text": [
      "Discounts > 20%: (0, 27)\n"
     ]
    }
   ],
   "source": [
    "discounted = merged_df[merged_df['discount_applied'] > 0.2]\n",
    "print(\"Discounts > 20%:\", discounted.shape)\n"
   ]
  },
  {
   "cell_type": "code",
   "execution_count": 87,
   "id": "d9a1079e-a7e4-4550-87f2-0975397853e0",
   "metadata": {},
   "outputs": [
    {
     "name": "stdout",
     "output_type": "stream",
     "text": [
      "Q2 customers matching all criteria: (0, 27)\n"
     ]
    },
    {
     "data": {
      "text/html": [
       "<div>\n",
       "<style scoped>\n",
       "    .dataframe tbody tr th:only-of-type {\n",
       "        vertical-align: middle;\n",
       "    }\n",
       "\n",
       "    .dataframe tbody tr th {\n",
       "        vertical-align: top;\n",
       "    }\n",
       "\n",
       "    .dataframe thead th {\n",
       "        text-align: right;\n",
       "    }\n",
       "</style>\n",
       "<table border=\"1\" class=\"dataframe\">\n",
       "  <thead>\n",
       "    <tr style=\"text-align: right;\">\n",
       "      <th></th>\n",
       "      <th>order_id</th>\n",
       "      <th>customer_id</th>\n",
       "      <th>product_id</th>\n",
       "      <th>quantity</th>\n",
       "      <th>unit_price</th>\n",
       "      <th>order_date</th>\n",
       "      <th>delivery_status</th>\n",
       "      <th>payment_method</th>\n",
       "      <th>region</th>\n",
       "      <th>discount_applied</th>\n",
       "      <th>...</th>\n",
       "      <th>gender</th>\n",
       "      <th>loyalty_tier</th>\n",
       "      <th>revenue</th>\n",
       "      <th>order_week</th>\n",
       "      <th>price_band</th>\n",
       "      <th>days_to_order</th>\n",
       "      <th>email_domain</th>\n",
       "      <th>is_late</th>\n",
       "      <th>signup_month</th>\n",
       "      <th>days_from_signup_to_order</th>\n",
       "    </tr>\n",
       "  </thead>\n",
       "  <tbody>\n",
       "  </tbody>\n",
       "</table>\n",
       "<p>0 rows × 27 columns</p>\n",
       "</div>"
      ],
      "text/plain": [
       "Empty DataFrame\n",
       "Columns: [order_id, customer_id, product_id, quantity, unit_price, order_date, delivery_status, payment_method, region, discount_applied, product_name, category, launch_date, base_price, supplier_code, email, signup_date, gender, loyalty_tier, revenue, order_week, price_band, days_to_order, email_domain, is_late, signup_month, days_from_signup_to_order]\n",
       "Index: []\n",
       "\n",
       "[0 rows x 27 columns]"
      ]
     },
     "execution_count": 87,
     "metadata": {},
     "output_type": "execute_result"
    }
   ],
   "source": [
    "q2_customers = merged_df[\n",
    "    (merged_df['signup_date'].dt.month.between(4, 6)) &\n",
    "    (merged_df['days_from_signup_to_order'] <= 14) &\n",
    "    (merged_df['discount_applied'] > 0.2)\n",
    "]\n",
    "\n",
    "print(\"Q2 customers matching all criteria:\", q2_customers.shape)\n",
    "q2_customers.head()\n"
   ]
  },
  {
   "cell_type": "code",
   "execution_count": 88,
   "id": "ea42d73f-dd8c-412a-bdf3-a4636e99ab5b",
   "metadata": {},
   "outputs": [
    {
     "name": "stdout",
     "output_type": "stream",
     "text": [
      "Step 1: (520, 27)\n"
     ]
    }
   ],
   "source": [
    "step1 = merged_df[merged_df['signup_date'].dt.month.between(4, 6)]\n",
    "print(\"Step 1:\", step1.shape)"
   ]
  },
  {
   "cell_type": "code",
   "execution_count": 89,
   "id": "dbfe7499-16d2-4c03-a697-48c6db828fc9",
   "metadata": {},
   "outputs": [
    {
     "name": "stdout",
     "output_type": "stream",
     "text": [
      "Step 1: (520, 27)\n",
      "Step 2: (220, 27)\n",
      "Step 3: (0, 27)\n"
     ]
    }
   ],
   "source": [
    "step1 = merged_df[merged_df['signup_date'].dt.month.between(4, 6)]\n",
    "print(\"Step 1:\", step1.shape)\n",
    "\n",
    "step2 = step1[step1['days_from_signup_to_order'] <= 14]\n",
    "print(\"Step 2:\", step2.shape)\n",
    "\n",
    "step3 = step2[step2['discount_applied'] > 0.2]\n",
    "print(\"Step 3:\", step3.shape)\n"
   ]
  },
  {
   "cell_type": "code",
   "execution_count": 90,
   "id": "2b4e8a60-a962-4b59-ba9e-5e32045beb6c",
   "metadata": {},
   "outputs": [
    {
     "name": "stdout",
     "output_type": "stream",
     "text": [
      "Q2 Signups: (520, 27)\n"
     ]
    }
   ],
   "source": [
    "q2_customers = merged_df[merged_df['signup_date'].dt.month.isin([4, 5, 6])]\n",
    "print(\"Q2 Signups:\", q2_customers.shape)\n"
   ]
  },
  {
   "cell_type": "code",
   "execution_count": 91,
   "id": "3d1b8b32-3d71-44d4-ab55-7da2b1647cbf",
   "metadata": {},
   "outputs": [
    {
     "name": "stdout",
     "output_type": "stream",
     "text": [
      "Orders within 14 days of signup: (239, 27)\n"
     ]
    }
   ],
   "source": [
    "orders_within_14_days = merged_df[merged_df['days_from_signup_to_order'] <= 14]\n",
    "print(\"Orders within 14 days of signup:\", orders_within_14_days.shape)"
   ]
  },
  {
   "cell_type": "code",
   "execution_count": 92,
   "id": "1b8e0d75-a9d6-4885-ae3e-ffb96a4cd99d",
   "metadata": {},
   "outputs": [
    {
     "name": "stdout",
     "output_type": "stream",
     "text": [
      "Orders with >20% discount: (0, 27)\n"
     ]
    }
   ],
   "source": [
    "discount_gt_20 = merged_df[merged_df['discount_applied'] > 0.2]\n",
    "print(\"Orders with >20% discount:\", discount_gt_20.shape)\n"
   ]
  },
  {
   "cell_type": "code",
   "execution_count": 94,
   "id": "792a2910-eca2-4d15-8519-5a5f94bc9e6b",
   "metadata": {},
   "outputs": [
    {
     "data": {
      "text/html": [
       "<div>\n",
       "<style scoped>\n",
       "    .dataframe tbody tr th:only-of-type {\n",
       "        vertical-align: middle;\n",
       "    }\n",
       "\n",
       "    .dataframe tbody tr th {\n",
       "        vertical-align: top;\n",
       "    }\n",
       "\n",
       "    .dataframe thead th {\n",
       "        text-align: right;\n",
       "    }\n",
       "</style>\n",
       "<table border=\"1\" class=\"dataframe\">\n",
       "  <thead>\n",
       "    <tr style=\"text-align: right;\">\n",
       "      <th></th>\n",
       "      <th>revenue</th>\n",
       "      <th>revenue_scaled</th>\n",
       "    </tr>\n",
       "  </thead>\n",
       "  <tbody>\n",
       "    <tr>\n",
       "      <th>0</th>\n",
       "      <td>117.750</td>\n",
       "      <td>0.457431</td>\n",
       "    </tr>\n",
       "    <tr>\n",
       "      <th>1</th>\n",
       "      <td>94.600</td>\n",
       "      <td>0.361987</td>\n",
       "    </tr>\n",
       "    <tr>\n",
       "      <th>2</th>\n",
       "      <td>25.228</td>\n",
       "      <td>0.075976</td>\n",
       "    </tr>\n",
       "    <tr>\n",
       "      <th>3</th>\n",
       "      <td>26.208</td>\n",
       "      <td>0.080016</td>\n",
       "    </tr>\n",
       "    <tr>\n",
       "      <th>4</th>\n",
       "      <td>38.096</td>\n",
       "      <td>0.129029</td>\n",
       "    </tr>\n",
       "  </tbody>\n",
       "</table>\n",
       "</div>"
      ],
      "text/plain": [
       "   revenue  revenue_scaled\n",
       "0  117.750        0.457431\n",
       "1   94.600        0.361987\n",
       "2   25.228        0.075976\n",
       "3   26.208        0.080016\n",
       "4   38.096        0.129029"
      ]
     },
     "execution_count": 94,
     "metadata": {},
     "output_type": "execute_result"
    }
   ],
   "source": [
    "#USE MINMAXSCALER TO NORMALIZE REVENUE AND PRICE\n",
    "scaler = MinMaxScaler()\n",
    "merged_df['revenue_scaled'] = scaler.fit_transform(merged_df[['revenue']])\n",
    "merged_df[['revenue', 'revenue_scaled']].head()"
   ]
  },
  {
   "cell_type": "code",
   "execution_count": 95,
   "id": "81f715da-019e-466d-8a35-a358bc651d30",
   "metadata": {},
   "outputs": [
    {
     "data": {
      "text/html": [
       "<div>\n",
       "<style scoped>\n",
       "    .dataframe tbody tr th:only-of-type {\n",
       "        vertical-align: middle;\n",
       "    }\n",
       "\n",
       "    .dataframe tbody tr th {\n",
       "        vertical-align: top;\n",
       "    }\n",
       "\n",
       "    .dataframe thead th {\n",
       "        text-align: right;\n",
       "    }\n",
       "</style>\n",
       "<table border=\"1\" class=\"dataframe\">\n",
       "  <thead>\n",
       "    <tr style=\"text-align: right;\">\n",
       "      <th></th>\n",
       "      <th>unit_price</th>\n",
       "      <th>unit_price_scaled</th>\n",
       "    </tr>\n",
       "  </thead>\n",
       "  <tbody>\n",
       "    <tr>\n",
       "      <th>0</th>\n",
       "      <td>39.25</td>\n",
       "      <td>0.744225</td>\n",
       "    </tr>\n",
       "    <tr>\n",
       "      <th>1</th>\n",
       "      <td>18.92</td>\n",
       "      <td>0.260062</td>\n",
       "    </tr>\n",
       "    <tr>\n",
       "      <th>2</th>\n",
       "      <td>29.68</td>\n",
       "      <td>0.516313</td>\n",
       "    </tr>\n",
       "    <tr>\n",
       "      <th>3</th>\n",
       "      <td>32.76</td>\n",
       "      <td>0.589664</td>\n",
       "    </tr>\n",
       "    <tr>\n",
       "      <th>4</th>\n",
       "      <td>47.62</td>\n",
       "      <td>0.943558</td>\n",
       "    </tr>\n",
       "  </tbody>\n",
       "</table>\n",
       "</div>"
      ],
      "text/plain": [
       "   unit_price  unit_price_scaled\n",
       "0       39.25           0.744225\n",
       "1       18.92           0.260062\n",
       "2       29.68           0.516313\n",
       "3       32.76           0.589664\n",
       "4       47.62           0.943558"
      ]
     },
     "execution_count": 95,
     "metadata": {},
     "output_type": "execute_result"
    }
   ],
   "source": [
    "merged_df['unit_price_scaled'] = scaler.fit_transform(merged_df[['unit_price']])\n",
    "merged_df[['unit_price', 'unit_price_scaled']].head()"
   ]
  },
  {
   "cell_type": "code",
   "execution_count": 102,
   "id": "ebb160ab-9558-40ab-a9d3-79ebf576f373",
   "metadata": {},
   "outputs": [
    {
     "name": "stdout",
     "output_type": "stream",
     "text": [
      "Underperforming records: 178\n"
     ]
    }
   ],
   "source": [
    "#FLAG UNDERPERFORMING PRODUCTS\n",
    "merged_df['underperforming'] = (\n",
    "    (merged_df['quantity'] < 10) &\n",
    "    (merged_df['discount_applied'] > 0.1) &\n",
    "    (merged_df['delivery_status'] == 'Delayed')\n",
    ")\n",
    "underperforming = merged_df[merged_df['underperforming']]\n",
    "print(f\"Underperforming records: {underperforming.shape[0]}\")\n"
   ]
  },
  {
   "cell_type": "code",
   "execution_count": 103,
   "id": "c48428ec-2847-4227-b7f6-b35d1bc1b77a",
   "metadata": {},
   "outputs": [
    {
     "name": "stdout",
     "output_type": "stream",
     "text": [
      "Quantity < 10: 2470\n",
      "Discount > 0.1: 985\n",
      "Delivery Status = 'Delayed': 493\n"
     ]
    }
   ],
   "source": [
    "print(\"Quantity < 10:\", merged_df[merged_df['quantity'] < 10].shape[0])\n",
    "print(\"Discount > 0.1:\", merged_df[merged_df['discount_applied'] > 0.1].shape[0])\n",
    "print(\"Delivery Status = 'Delayed':\", merged_df[merged_df['delivery_status'] == 'Delayed'].shape[0])\n"
   ]
  },
  {
   "cell_type": "code",
   "execution_count": null,
   "id": "3e8ac4de-5c45-4aa9-aca1-8fc72e78ea97",
   "metadata": {},
   "outputs": [],
   "source": []
  }
 ],
 "metadata": {
  "kernelspec": {
   "display_name": "Python 3 (ipykernel)",
   "language": "python",
   "name": "python3"
  },
  "language_info": {
   "codemirror_mode": {
    "name": "ipython",
    "version": 3
   },
   "file_extension": ".py",
   "mimetype": "text/x-python",
   "name": "python",
   "nbconvert_exporter": "python",
   "pygments_lexer": "ipython3",
   "version": "3.13.3"
  }
 },
 "nbformat": 4,
 "nbformat_minor": 5
}
